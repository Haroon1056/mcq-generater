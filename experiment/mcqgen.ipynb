{
 "cells": [
  {
   "cell_type": "code",
   "execution_count": 44,
   "id": "457a5b53",
   "metadata": {},
   "outputs": [],
   "source": [
    "from langchain_huggingface import HuggingFaceEndpoint\n",
    "from langchain_groq import ChatGroq\n",
    "from langchain.prompts import PromptTemplate\n",
    "from langchain.chains import LLMChain\n",
    "from langchain.chains import SequentialChain\n",
    "from langchain.callbacks import get_openai_callback\n",
    "import os\n",
    "import json\n",
    "import pandas as pd\n",
    "import traceback\n",
    "from dotenv import load_dotenv\n",
    "import PyPDF2"
   ]
  },
  {
   "cell_type": "code",
   "execution_count": 45,
   "id": "6fdac1c2",
   "metadata": {},
   "outputs": [
    {
     "data": {
      "text/plain": [
       "True"
      ]
     },
     "execution_count": 45,
     "metadata": {},
     "output_type": "execute_result"
    }
   ],
   "source": [
    "load_dotenv()"
   ]
  },
  {
   "cell_type": "code",
   "execution_count": 46,
   "id": "b8e7e6a6",
   "metadata": {},
   "outputs": [],
   "source": [
    "GROQ_API_TOKEN = os.getenv(\"GROQ_API_TOKEN\")"
   ]
  },
  {
   "cell_type": "code",
   "execution_count": 47,
   "id": "043606f9",
   "metadata": {},
   "outputs": [],
   "source": [
    "os.environ[\"GROQ_API_TOKEN\"] = GROQ_API_TOKEN"
   ]
  },
  {
   "cell_type": "code",
   "execution_count": 48,
   "id": "a84f093a",
   "metadata": {},
   "outputs": [],
   "source": [
    "with open(\"Response.json\", \"r\") as file:\n",
    "    RESPONSE_JSON = json.load(file)"
   ]
  },
  {
   "cell_type": "code",
   "execution_count": 49,
   "id": "b000539a",
   "metadata": {},
   "outputs": [
    {
     "name": "stdout",
     "output_type": "stream",
     "text": [
      "{'1': {'no': 1, 'question': 'multiple choice question', 'options': {'a': 'option a', 'b': 'option b', 'c': 'option c', 'd': 'option d'}, 'answer': 'a'}, '2': {'no': 2, 'question': 'multiple choice question', 'options': {'a': 'option a', 'b': 'option b', 'c': 'option c', 'd': 'option d'}, 'answer': 'a'}, '3': {'no': 3, 'question': 'multiple choice question', 'options': {'a': 'option a', 'b': 'option b', 'c': 'option c', 'd': 'option d'}, 'answer': 'a'}}\n"
     ]
    }
   ],
   "source": [
    "print(RESPONSE_JSON)"
   ]
  },
  {
   "cell_type": "code",
   "execution_count": 87,
   "id": "992920cb",
   "metadata": {},
   "outputs": [],
   "source": [
    "prompt = PromptTemplate(\n",
    "    input_variables=[\"text\", \"number\", \"subject\", \"tone\", \"RESPONSE_JSON\"],\n",
    "    template=\"\"\"\n",
    "    Text: {text}\n",
    "    You are an expert MCQ maker. Given the above text, it is you job to \\\n",
    "    create a quiz of {number} multiple choice questions (MCQs) with answers for {subject} students in {tone} tone.\n",
    "    Make sure the questions are not repeated. check all the questions to be conforming text as well.\n",
    "    Make sure to format your response in JSON format with the following structure: ad use it as a guide:\n",
    "    Ensure to make {number} MCQs\n",
    "    {RESPONSE_JSON}\n",
    "    \"\"\"\n",
    ")"
   ]
  },
  {
   "cell_type": "code",
   "execution_count": 88,
   "id": "0ee744d2",
   "metadata": {},
   "outputs": [],
   "source": [
    "llm = ChatGroq(\n",
    "    model=\"llama-3.3-70b-versatile\",\n",
    "    api_key=GROQ_API_TOKEN,\n",
    "    temperature=0.7\n",
    ")"
   ]
  },
  {
   "cell_type": "code",
   "execution_count": null,
   "id": "509dc445",
   "metadata": {},
   "outputs": [],
   "source": []
  },
  {
   "cell_type": "code",
   "execution_count": 89,
   "id": "d7c5bdff",
   "metadata": {},
   "outputs": [],
   "source": [
    "chain = LLMChain(llm=llm, prompt=prompt, output_key='quiz', verbose=True)"
   ]
  },
  {
   "cell_type": "code",
   "execution_count": 90,
   "id": "021bd205",
   "metadata": {},
   "outputs": [],
   "source": [
    "template = \"\"\"\n",
    "    Yor are an expert english grammarian and writer. Given a multiple choice quiz for {subject} students, it is your job to \\\n",
    "    You need to evaluate the complexity of the questions and give a complete analysis of the quiz. Only use max 50 words.\n",
    "    if the quiz is not at per with the cognitive and analytical abilities of the students, \\\n",
    "    update the quiz questions which need to be changed and change the tone such that is perfectly fits the students abilities.\n",
    "    Quiz_MCQs: {quiz}\n",
    "    Check from an expert english Writer of the above quiz:\n",
    "    \"\"\""
   ]
  },
  {
   "cell_type": "code",
   "execution_count": 91,
   "id": "3bb64161",
   "metadata": {},
   "outputs": [],
   "source": [
    "prompt2 = PromptTemplate(\n",
    "    input_variables=[\"quiz\", \"subject\"],\n",
    "    template=template\n",
    ")"
   ]
  },
  {
   "cell_type": "code",
   "execution_count": 92,
   "id": "caccc373",
   "metadata": {},
   "outputs": [],
   "source": [
    "review_chain = LLMChain(llm=llm, prompt=prompt2, output_key='review', verbose=True)"
   ]
  },
  {
   "cell_type": "code",
   "execution_count": 117,
   "id": "92f3103e",
   "metadata": {},
   "outputs": [],
   "source": [
    "generate_evaluate_chain = SequentialChain(\n",
    "    chains=[chain, review_chain],\n",
    "    input_variables=['text', 'number', 'subject', 'tone', 'RESPONSE_JSON'],\n",
    "    output_variables=['quiz', 'review'],\n",
    "    verbose=True)"
   ]
  },
  {
   "cell_type": "code",
   "execution_count": 118,
   "id": "f70265be",
   "metadata": {},
   "outputs": [],
   "source": [
    "with open (\"text.txt\", \"r\") as file:\n",
    "    text = file.read()"
   ]
  },
  {
   "cell_type": "code",
   "execution_count": 119,
   "id": "274f5964",
   "metadata": {},
   "outputs": [
    {
     "name": "stdout",
     "output_type": "stream",
     "text": [
      "Generative artificial intelligence (Generative AI, GenAI, or GAI) is a subfield of artificial intelligence that uses generative models to produce text, images, videos, or other forms of data. These models learn the underlying patterns and structures of their training data and use them to produce new data based on the input, which often comes in the form of natural language prompts.\n",
      "\n",
      "Generative AI tools have become more common since the AI boom in the 2020s. This boom was made possible by improvements in transformer-based deep neural networks, particularly large language models (LLMs). Major tools include chatbots such as ChatGPT, Copilot, Gemini, Claude, Grok, and DeepSeek; text-to-image models such as Stable Diffusion, Midjourney, and DALL-E; and text-to-video models such as Veo and Sora. Technology companies developing generative AI include OpenAI, Anthropic, Meta AI, Microsoft, Google, DeepSeek, and Baidu.\n",
      "\n",
      "Generative AI has raised many ethical questions as it can be used for cybercrime, or to deceive or manipulate people through fake news or deepfakes. Even if used ethically, it may lead to mass replacement of human jobs. The tools themselves have been criticized as violating intellectual property laws, since they are trained on copyrighted works.\n",
      "\n",
      "Generative AI is used across many industries. Examples include software development, healthcare, finance, entertainment, customer service, sales and marketing, art, writing, fashion, and product design.\n",
      "\n",
      "History\n",
      "Main article: History of artificial intelligence\n",
      "Early history\n",
      "The first example of an algorithmically generated media is likely the Markov chain. Markov chains have long been used to model natural languages since their development by Russian mathematician Andrey Markov in the early 20th century. Markov published his first paper on the topic in 1906, and analyzed the pattern of vowels and consonants in the novel Eugeny Onegin using Markov chains. Once a Markov chain is trained on a text corpus, it can then be used as a probabilistic text generator.\n",
      "\n",
      "Computers were needed to go beyond Markov chains. By the early 1970s, Harold Cohen was creating and exhibiting generative AI works created by AARON, the computer program Cohen created to generate paintings.\n",
      "\n",
      "The terms generative AI planning or generative planning were used in the 1980s and 1990s to refer to AI planning systems, especially computer-aided process planning, used to generate sequences of actions to reach a specified goal. Generative AI planning systems used symbolic AI methods such as state space search and constraint satisfaction and were a \"relatively mature\" technology by the early 1990s. They were used to generate crisis action plans for military use, process plans for manufacturing and decision plans such as in prototype autonomous spacecraft.\n"
     ]
    }
   ],
   "source": [
    "print(text)"
   ]
  },
  {
   "cell_type": "code",
   "execution_count": 120,
   "id": "50159295",
   "metadata": {},
   "outputs": [],
   "source": [
    "text\n",
    "NUMBER = 5\n",
    "SUBJECT = \"AI\"\n",
    "TONE = \"Formal\"\n",
    "RESPONSE_JSON = RESPONSE_JSON"
   ]
  },
  {
   "cell_type": "code",
   "execution_count": 126,
   "id": "264f4d8c",
   "metadata": {},
   "outputs": [
    {
     "name": "stdout",
     "output_type": "stream",
     "text": [
      "\n",
      "\n",
      "\u001b[1m> Entering new SequentialChain chain...\u001b[0m\n",
      "\n",
      "\n",
      "\u001b[1m> Entering new LLMChain chain...\u001b[0m\n",
      "Prompt after formatting:\n",
      "\u001b[32;1m\u001b[1;3m\n",
      "    Text: Generative artificial intelligence (Generative AI, GenAI, or GAI) is a subfield of artificial intelligence that uses generative models to produce text, images, videos, or other forms of data. These models learn the underlying patterns and structures of their training data and use them to produce new data based on the input, which often comes in the form of natural language prompts.\n",
      "\n",
      "Generative AI tools have become more common since the AI boom in the 2020s. This boom was made possible by improvements in transformer-based deep neural networks, particularly large language models (LLMs). Major tools include chatbots such as ChatGPT, Copilot, Gemini, Claude, Grok, and DeepSeek; text-to-image models such as Stable Diffusion, Midjourney, and DALL-E; and text-to-video models such as Veo and Sora. Technology companies developing generative AI include OpenAI, Anthropic, Meta AI, Microsoft, Google, DeepSeek, and Baidu.\n",
      "\n",
      "Generative AI has raised many ethical questions as it can be used for cybercrime, or to deceive or manipulate people through fake news or deepfakes. Even if used ethically, it may lead to mass replacement of human jobs. The tools themselves have been criticized as violating intellectual property laws, since they are trained on copyrighted works.\n",
      "\n",
      "Generative AI is used across many industries. Examples include software development, healthcare, finance, entertainment, customer service, sales and marketing, art, writing, fashion, and product design.\n",
      "\n",
      "History\n",
      "Main article: History of artificial intelligence\n",
      "Early history\n",
      "The first example of an algorithmically generated media is likely the Markov chain. Markov chains have long been used to model natural languages since their development by Russian mathematician Andrey Markov in the early 20th century. Markov published his first paper on the topic in 1906, and analyzed the pattern of vowels and consonants in the novel Eugeny Onegin using Markov chains. Once a Markov chain is trained on a text corpus, it can then be used as a probabilistic text generator.\n",
      "\n",
      "Computers were needed to go beyond Markov chains. By the early 1970s, Harold Cohen was creating and exhibiting generative AI works created by AARON, the computer program Cohen created to generate paintings.\n",
      "\n",
      "The terms generative AI planning or generative planning were used in the 1980s and 1990s to refer to AI planning systems, especially computer-aided process planning, used to generate sequences of actions to reach a specified goal. Generative AI planning systems used symbolic AI methods such as state space search and constraint satisfaction and were a \"relatively mature\" technology by the early 1990s. They were used to generate crisis action plans for military use, process plans for manufacturing and decision plans such as in prototype autonomous spacecraft.\n",
      "    You are an expert MCQ maker. Given the above text, it is you job to     create a quiz of 5 multiple choice questions (MCQs) with answers for AI students in Formal tone.\n",
      "    Make sure the questions are not repeated. check all the questions to be conforming text as well.\n",
      "    Make sure to format your response in JSON format with the following structure: ad use it as a guide:\n",
      "    Ensure to make 5 MCQs\n",
      "    {\"1\": {\"no\": 1, \"question\": \"multiple choice question\", \"options\": {\"a\": \"option a\", \"b\": \"option b\", \"c\": \"option c\", \"d\": \"option d\"}, \"answer\": \"a\"}, \"2\": {\"no\": 2, \"question\": \"multiple choice question\", \"options\": {\"a\": \"option a\", \"b\": \"option b\", \"c\": \"option c\", \"d\": \"option d\"}, \"answer\": \"a\"}, \"3\": {\"no\": 3, \"question\": \"multiple choice question\", \"options\": {\"a\": \"option a\", \"b\": \"option b\", \"c\": \"option c\", \"d\": \"option d\"}, \"answer\": \"a\"}}\n",
      "    \u001b[0m\n"
     ]
    },
    {
     "name": "stdout",
     "output_type": "stream",
     "text": [
      "\n",
      "\u001b[1m> Finished chain.\u001b[0m\n",
      "\n",
      "\n",
      "\u001b[1m> Entering new LLMChain chain...\u001b[0m\n",
      "Prompt after formatting:\n",
      "\u001b[32;1m\u001b[1;3m\n",
      "    Yor are an expert english grammarian and writer. Given a multiple choice quiz for AI students, it is your job to     You need to evaluate the complexity of the questions and give a complete analysis of the quiz. Only use max 50 words.\n",
      "    if the quiz is not at per with the cognitive and analytical abilities of the students,     update the quiz questions which need to be changed and change the tone such that is perfectly fits the students abilities.\n",
      "    Quiz_MCQs: Here are 5 multiple choice questions based on the provided text:\n",
      "\n",
      "```\n",
      "{\n",
      "  \"1\": {\n",
      "    \"no\": 1,\n",
      "    \"question\": \"What is the primary function of generative artificial intelligence (Generative AI)?\",\n",
      "    \"options\": {\n",
      "      \"a\": \"To analyze existing data\",\n",
      "      \"b\": \"To produce text, images, videos, or other forms of data based on input\",\n",
      "      \"c\": \"To develop new algorithms\",\n",
      "      \"d\": \"To improve cybersecurity\"\n",
      "    },\n",
      "    \"answer\": \"b\"\n",
      "  },\n",
      "  \"2\": {\n",
      "    \"no\": 2,\n",
      "    \"question\": \"What technological advancement in the 2020s contributed to the development of generative AI tools?\",\n",
      "    \"options\": {\n",
      "      \"a\": \"Improvements in rule-based expert systems\",\n",
      "      \"b\": \"Advances in computer vision\",\n",
      "      \"c\": \"Improvements in transformer-based deep neural networks, particularly large language models (LLMs)\",\n",
      "      \"d\": \"Development of new programming languages\"\n",
      "    },\n",
      "    \"answer\": \"c\"\n",
      "  },\n",
      "  \"3\": {\n",
      "    \"no\": 3,\n",
      "    \"question\": \"What is an example of an early algorithm used for generating media?\",\n",
      "    \"options\": {\n",
      "      \"a\": \"Decision trees\",\n",
      "      \"b\": \"Markov chains\",\n",
      "      \"c\": \"Neural networks\",\n",
      "      \"d\": \"Clustering algorithms\"\n",
      "    },\n",
      "    \"answer\": \"b\"\n",
      "  },\n",
      "  \"4\": {\n",
      "    \"no\": 4,\n",
      "    \"question\": \"What is one of the potential negative consequences of using generative AI?\",\n",
      "    \"options\": {\n",
      "      \"a\": \"Job creation\",\n",
      "      \"b\": \"Improved cybersecurity\",\n",
      "      \"c\": \"Mass replacement of human jobs\",\n",
      "      \"d\": \"Increased transparency in news media\"\n",
      "    },\n",
      "    \"answer\": \"c\"\n",
      "  },\n",
      "  \"5\": {\n",
      "    \"no\": 5,\n",
      "    \"question\": \"In which decade did Harold Cohen create and exhibit generative AI works using the computer program AARON?\",\n",
      "    \"options\": {\n",
      "      \"a\": \"1950s\",\n",
      "      \"b\": \"1960s\",\n",
      "      \"c\": \"1970s\",\n",
      "      \"d\": \"1980s\"\n",
      "    },\n",
      "    \"answer\": \"c\"\n",
      "  }\n",
      "}\n",
      "```\n",
      "    Check from an expert english Writer of the above quiz:\n",
      "    \u001b[0m\n",
      "\n",
      "\u001b[1m> Finished chain.\u001b[0m\n",
      "\n",
      "\u001b[1m> Finished chain.\u001b[0m\n"
     ]
    }
   ],
   "source": [
    "with get_openai_callback() as cb:\n",
    "    response=generate_evaluate_chain.invoke(\n",
    "        {\n",
    "            \"text\": text,\n",
    "            \"number\": NUMBER,\n",
    "            \"subject\": SUBJECT,\n",
    "            \"tone\": TONE,\n",
    "            \"RESPONSE_JSON\": json.dumps(RESPONSE_JSON)\n",
    "        }\n",
    "    )"
   ]
  },
  {
   "cell_type": "code",
   "execution_count": 127,
   "id": "3210253f",
   "metadata": {},
   "outputs": [
    {
     "name": "stdout",
     "output_type": "stream",
     "text": [
      "Total Tokens Used: 2037\n",
      "Total Cost: $0.0000\n",
      "Prompt Tokens: 1507\n",
      "Completion Tokens: 530\n"
     ]
    }
   ],
   "source": [
    "print(f\"Total Tokens Used: {cb.total_tokens}\")\n",
    "print(f\"Total Cost: ${cb.total_cost:.4f}\")\n",
    "print(f\"Prompt Tokens: {cb.prompt_tokens}\")\n",
    "print(f\"Completion Tokens: {cb.completion_tokens}\")"
   ]
  },
  {
   "cell_type": "code",
   "execution_count": 128,
   "id": "61b88c65",
   "metadata": {},
   "outputs": [
    {
     "data": {
      "text/plain": [
       "{'text': 'Generative artificial intelligence (Generative AI, GenAI, or GAI) is a subfield of artificial intelligence that uses generative models to produce text, images, videos, or other forms of data. These models learn the underlying patterns and structures of their training data and use them to produce new data based on the input, which often comes in the form of natural language prompts.\\n\\nGenerative AI tools have become more common since the AI boom in the 2020s. This boom was made possible by improvements in transformer-based deep neural networks, particularly large language models (LLMs). Major tools include chatbots such as ChatGPT, Copilot, Gemini, Claude, Grok, and DeepSeek; text-to-image models such as Stable Diffusion, Midjourney, and DALL-E; and text-to-video models such as Veo and Sora. Technology companies developing generative AI include OpenAI, Anthropic, Meta AI, Microsoft, Google, DeepSeek, and Baidu.\\n\\nGenerative AI has raised many ethical questions as it can be used for cybercrime, or to deceive or manipulate people through fake news or deepfakes. Even if used ethically, it may lead to mass replacement of human jobs. The tools themselves have been criticized as violating intellectual property laws, since they are trained on copyrighted works.\\n\\nGenerative AI is used across many industries. Examples include software development, healthcare, finance, entertainment, customer service, sales and marketing, art, writing, fashion, and product design.\\n\\nHistory\\nMain article: History of artificial intelligence\\nEarly history\\nThe first example of an algorithmically generated media is likely the Markov chain. Markov chains have long been used to model natural languages since their development by Russian mathematician Andrey Markov in the early 20th century. Markov published his first paper on the topic in 1906, and analyzed the pattern of vowels and consonants in the novel Eugeny Onegin using Markov chains. Once a Markov chain is trained on a text corpus, it can then be used as a probabilistic text generator.\\n\\nComputers were needed to go beyond Markov chains. By the early 1970s, Harold Cohen was creating and exhibiting generative AI works created by AARON, the computer program Cohen created to generate paintings.\\n\\nThe terms generative AI planning or generative planning were used in the 1980s and 1990s to refer to AI planning systems, especially computer-aided process planning, used to generate sequences of actions to reach a specified goal. Generative AI planning systems used symbolic AI methods such as state space search and constraint satisfaction and were a \"relatively mature\" technology by the early 1990s. They were used to generate crisis action plans for military use, process plans for manufacturing and decision plans such as in prototype autonomous spacecraft.',\n",
       " 'number': 5,\n",
       " 'subject': 'AI',\n",
       " 'tone': 'Formal',\n",
       " 'RESPONSE_JSON': '{\"1\": {\"no\": 1, \"question\": \"multiple choice question\", \"options\": {\"a\": \"option a\", \"b\": \"option b\", \"c\": \"option c\", \"d\": \"option d\"}, \"answer\": \"a\"}, \"2\": {\"no\": 2, \"question\": \"multiple choice question\", \"options\": {\"a\": \"option a\", \"b\": \"option b\", \"c\": \"option c\", \"d\": \"option d\"}, \"answer\": \"a\"}, \"3\": {\"no\": 3, \"question\": \"multiple choice question\", \"options\": {\"a\": \"option a\", \"b\": \"option b\", \"c\": \"option c\", \"d\": \"option d\"}, \"answer\": \"a\"}}',\n",
       " 'quiz': 'Here are 5 multiple choice questions based on the provided text:\\n\\n```\\n{\\n  \"1\": {\\n    \"no\": 1,\\n    \"question\": \"What is the primary function of generative artificial intelligence (Generative AI)?\",\\n    \"options\": {\\n      \"a\": \"To analyze existing data\",\\n      \"b\": \"To produce text, images, videos, or other forms of data based on input\",\\n      \"c\": \"To develop new algorithms\",\\n      \"d\": \"To improve cybersecurity\"\\n    },\\n    \"answer\": \"b\"\\n  },\\n  \"2\": {\\n    \"no\": 2,\\n    \"question\": \"What technological advancement in the 2020s contributed to the development of generative AI tools?\",\\n    \"options\": {\\n      \"a\": \"Improvements in rule-based expert systems\",\\n      \"b\": \"Advances in computer vision\",\\n      \"c\": \"Improvements in transformer-based deep neural networks, particularly large language models (LLMs)\",\\n      \"d\": \"Development of new programming languages\"\\n    },\\n    \"answer\": \"c\"\\n  },\\n  \"3\": {\\n    \"no\": 3,\\n    \"question\": \"What is an example of an early algorithm used for generating media?\",\\n    \"options\": {\\n      \"a\": \"Decision trees\",\\n      \"b\": \"Markov chains\",\\n      \"c\": \"Neural networks\",\\n      \"d\": \"Clustering algorithms\"\\n    },\\n    \"answer\": \"b\"\\n  },\\n  \"4\": {\\n    \"no\": 4,\\n    \"question\": \"What is one of the potential negative consequences of using generative AI?\",\\n    \"options\": {\\n      \"a\": \"Job creation\",\\n      \"b\": \"Improved cybersecurity\",\\n      \"c\": \"Mass replacement of human jobs\",\\n      \"d\": \"Increased transparency in news media\"\\n    },\\n    \"answer\": \"c\"\\n  },\\n  \"5\": {\\n    \"no\": 5,\\n    \"question\": \"In which decade did Harold Cohen create and exhibit generative AI works using the computer program AARON?\",\\n    \"options\": {\\n      \"a\": \"1950s\",\\n      \"b\": \"1960s\",\\n      \"c\": \"1970s\",\\n      \"d\": \"1980s\"\\n    },\\n    \"answer\": \"c\"\\n  }\\n}\\n```',\n",
       " 'review': 'Quiz complexity: Moderate. Questions are clear, but some options are vague. Needs tone adjustment for AI students. Questions 1, 3, and 5 are straightforward, while 2 and 4 require more analysis.'}"
      ]
     },
     "execution_count": 128,
     "metadata": {},
     "output_type": "execute_result"
    }
   ],
   "source": [
    "response"
   ]
  },
  {
   "cell_type": "code",
   "execution_count": 129,
   "id": "c678f650",
   "metadata": {},
   "outputs": [
    {
     "name": "stdout",
     "output_type": "stream",
     "text": [
      "Here are 5 multiple choice questions based on the provided text:\n",
      "\n",
      "```\n",
      "{\n",
      "  \"1\": {\n",
      "    \"no\": 1,\n",
      "    \"question\": \"What is the primary function of generative artificial intelligence (Generative AI)?\",\n",
      "    \"options\": {\n",
      "      \"a\": \"To analyze existing data\",\n",
      "      \"b\": \"To produce text, images, videos, or other forms of data based on input\",\n",
      "      \"c\": \"To develop new algorithms\",\n",
      "      \"d\": \"To improve cybersecurity\"\n",
      "    },\n",
      "    \"answer\": \"b\"\n",
      "  },\n",
      "  \"2\": {\n",
      "    \"no\": 2,\n",
      "    \"question\": \"What technological advancement in the 2020s contributed to the development of generative AI tools?\",\n",
      "    \"options\": {\n",
      "      \"a\": \"Improvements in rule-based expert systems\",\n",
      "      \"b\": \"Advances in computer vision\",\n",
      "      \"c\": \"Improvements in transformer-based deep neural networks, particularly large language models (LLMs)\",\n",
      "      \"d\": \"Development of new programming languages\"\n",
      "    },\n",
      "    \"answer\": \"c\"\n",
      "  },\n",
      "  \"3\": {\n",
      "    \"no\": 3,\n",
      "    \"question\": \"What is an example of an early algorithm used for generating media?\",\n",
      "    \"options\": {\n",
      "      \"a\": \"Decision trees\",\n",
      "      \"b\": \"Markov chains\",\n",
      "      \"c\": \"Neural networks\",\n",
      "      \"d\": \"Clustering algorithms\"\n",
      "    },\n",
      "    \"answer\": \"b\"\n",
      "  },\n",
      "  \"4\": {\n",
      "    \"no\": 4,\n",
      "    \"question\": \"What is one of the potential negative consequences of using generative AI?\",\n",
      "    \"options\": {\n",
      "      \"a\": \"Job creation\",\n",
      "      \"b\": \"Improved cybersecurity\",\n",
      "      \"c\": \"Mass replacement of human jobs\",\n",
      "      \"d\": \"Increased transparency in news media\"\n",
      "    },\n",
      "    \"answer\": \"c\"\n",
      "  },\n",
      "  \"5\": {\n",
      "    \"no\": 5,\n",
      "    \"question\": \"In which decade did Harold Cohen create and exhibit generative AI works using the computer program AARON?\",\n",
      "    \"options\": {\n",
      "      \"a\": \"1950s\",\n",
      "      \"b\": \"1960s\",\n",
      "      \"c\": \"1970s\",\n",
      "      \"d\": \"1980s\"\n",
      "    },\n",
      "    \"answer\": \"c\"\n",
      "  }\n",
      "}\n",
      "```\n",
      "<class 'str'>\n"
     ]
    }
   ],
   "source": [
    "quiz=response.get('quiz')\n",
    "print(quiz)\n",
    "print(type(quiz))"
   ]
  },
  {
   "cell_type": "code",
   "execution_count": null,
   "id": "47d30fc2",
   "metadata": {},
   "outputs": [],
   "source": []
  },
  {
   "cell_type": "code",
   "execution_count": 130,
   "id": "b511b1cf",
   "metadata": {},
   "outputs": [
    {
     "name": "stdout",
     "output_type": "stream",
     "text": [
      "✅ JSON loaded successfully!\n",
      "<class 'dict'>\n",
      "{'1': {'no': 1, 'question': 'What is the primary function of generative artificial intelligence (Generative AI)?', 'options': {'a': 'To analyze existing data', 'b': 'To produce text, images, videos, or other forms of data based on input', 'c': 'To develop new algorithms', 'd': 'To improve cybersecurity'}, 'answer': 'b'}, '2': {'no': 2, 'question': 'What technological advancement in the 2020s contributed to the development of generative AI tools?', 'options': {'a': 'Improvements in rule-based expert systems', 'b': 'Advances in computer vision', 'c': 'Improvements in transformer-based deep neural networks, particularly large language models (LLMs)', 'd': 'Development of new programming languages'}, 'answer': 'c'}, '3': {'no': 3, 'question': 'What is an example of an early algorithm used for generating media?', 'options': {'a': 'Decision trees', 'b': 'Markov chains', 'c': 'Neural networks', 'd': 'Clustering algorithms'}, 'answer': 'b'}, '4': {'no': 4, 'question': 'What is one of the potential negative consequences of using generative AI?', 'options': {'a': 'Job creation', 'b': 'Improved cybersecurity', 'c': 'Mass replacement of human jobs', 'd': 'Increased transparency in news media'}, 'answer': 'c'}, '5': {'no': 5, 'question': 'In which decade did Harold Cohen create and exhibit generative AI works using the computer program AARON?', 'options': {'a': '1950s', 'b': '1960s', 'c': '1970s', 'd': '1980s'}, 'answer': 'c'}}\n"
     ]
    }
   ],
   "source": [
    "import json\n",
    "import re\n",
    "\n",
    "# Assuming `quiz` is the response string from your LLM\n",
    "# Step 1: Extract JSON inside triple backticks using regex\n",
    "match = re.search(r\"```(.*?)```\", quiz, re.DOTALL)\n",
    "\n",
    "if match:\n",
    "    json_str = match.group(1).strip()  # Clean and extract JSON block\n",
    "    try:\n",
    "        quiz_dict = json.loads(json_str)\n",
    "        print(\"✅ JSON loaded successfully!\")\n",
    "        print(type(quiz_dict))\n",
    "        print(quiz_dict)\n",
    "    except json.JSONDecodeError as e:\n",
    "        print(\"❌ JSONDecodeError:\", e)\n",
    "else:\n",
    "    print(\"❌ Could not find JSON block in the quiz string.\")\n"
   ]
  },
  {
   "cell_type": "code",
   "execution_count": 83,
   "id": "8d665c67",
   "metadata": {},
   "outputs": [],
   "source": [
    "quiz_table_data = []\n",
    "for key, value in quiz_dict.items():\n",
    "    mcq = value['question']\n",
    "    options = \" | \".join(\n",
    "        [\n",
    "            f\"{option}: {option_value}\"\n",
    "            for option, option_value in value['options'].items()\n",
    "        ]\n",
    "        )\n",
    "    correct = value['answer']\n",
    "    quiz_table_data.append({\"MCQ\": mcq, \"Choices\": options, \"Correct\": correct})"
   ]
  },
  {
   "cell_type": "code",
   "execution_count": 84,
   "id": "1b9c2811",
   "metadata": {},
   "outputs": [
    {
     "data": {
      "text/plain": [
       "[{'MCQ': 'What is the primary function of generative artificial intelligence (Generative AI)?',\n",
       "  'Choices': 'a: To analyze existing data | b: To produce text, images, videos, or other forms of data | c: To optimize machine learning models | d: To develop new algorithms',\n",
       "  'Correct': 'b'},\n",
       " {'MCQ': 'What technological advancement made the development of generative AI tools more common in the 2020s?',\n",
       "  'Choices': 'a: Improvements in rule-based expert systems | b: Advances in computer vision | c: Improvements in transformer-based deep neural networks, particularly large language models (LLMs) | d: Development of new programming languages',\n",
       "  'Correct': 'c'},\n",
       " {'MCQ': 'What is an example of an early algorithm used for generating media?',\n",
       "  'Choices': 'a: Markov chain | b: Decision tree | c: Neural network | d: Genetic algorithm',\n",
       "  'Correct': 'a'},\n",
       " {'MCQ': 'What is a potential ethical concern related to the use of generative AI?',\n",
       "  'Choices': 'a: Job creation | b: Improved data analysis | c: Cybercrime, deception, or manipulation through fake news or deepfakes | d: Increased computational power',\n",
       "  'Correct': 'c'},\n",
       " {'MCQ': 'In which decade did Harold Cohen create and exhibit generative AI works using the computer program AARON?',\n",
       "  'Choices': 'a: 1960s | b: 1970s | c: 1980s | d: 1990s',\n",
       "  'Correct': 'b'}]"
      ]
     },
     "execution_count": 84,
     "metadata": {},
     "output_type": "execute_result"
    }
   ],
   "source": [
    "quiz_table_data"
   ]
  },
  {
   "cell_type": "code",
   "execution_count": 85,
   "id": "6fe6dd2d",
   "metadata": {},
   "outputs": [],
   "source": [
    "df = pd.DataFrame(quiz_table_data)"
   ]
  },
  {
   "cell_type": "code",
   "execution_count": 86,
   "id": "9e9d508e",
   "metadata": {},
   "outputs": [
    {
     "data": {
      "text/html": [
       "<div>\n",
       "<style scoped>\n",
       "    .dataframe tbody tr th:only-of-type {\n",
       "        vertical-align: middle;\n",
       "    }\n",
       "\n",
       "    .dataframe tbody tr th {\n",
       "        vertical-align: top;\n",
       "    }\n",
       "\n",
       "    .dataframe thead th {\n",
       "        text-align: right;\n",
       "    }\n",
       "</style>\n",
       "<table border=\"1\" class=\"dataframe\">\n",
       "  <thead>\n",
       "    <tr style=\"text-align: right;\">\n",
       "      <th></th>\n",
       "      <th>MCQ</th>\n",
       "      <th>Choices</th>\n",
       "      <th>Correct</th>\n",
       "    </tr>\n",
       "  </thead>\n",
       "  <tbody>\n",
       "    <tr>\n",
       "      <th>0</th>\n",
       "      <td>What is the primary function of generative art...</td>\n",
       "      <td>a: To analyze existing data | b: To produce te...</td>\n",
       "      <td>b</td>\n",
       "    </tr>\n",
       "    <tr>\n",
       "      <th>1</th>\n",
       "      <td>What technological advancement made the develo...</td>\n",
       "      <td>a: Improvements in rule-based expert systems |...</td>\n",
       "      <td>c</td>\n",
       "    </tr>\n",
       "    <tr>\n",
       "      <th>2</th>\n",
       "      <td>What is an example of an early algorithm used ...</td>\n",
       "      <td>a: Markov chain | b: Decision tree | c: Neural...</td>\n",
       "      <td>a</td>\n",
       "    </tr>\n",
       "    <tr>\n",
       "      <th>3</th>\n",
       "      <td>What is a potential ethical concern related to...</td>\n",
       "      <td>a: Job creation | b: Improved data analysis | ...</td>\n",
       "      <td>c</td>\n",
       "    </tr>\n",
       "    <tr>\n",
       "      <th>4</th>\n",
       "      <td>In which decade did Harold Cohen create and ex...</td>\n",
       "      <td>a: 1960s | b: 1970s | c: 1980s | d: 1990s</td>\n",
       "      <td>b</td>\n",
       "    </tr>\n",
       "  </tbody>\n",
       "</table>\n",
       "</div>"
      ],
      "text/plain": [
       "                                                 MCQ  \\\n",
       "0  What is the primary function of generative art...   \n",
       "1  What technological advancement made the develo...   \n",
       "2  What is an example of an early algorithm used ...   \n",
       "3  What is a potential ethical concern related to...   \n",
       "4  In which decade did Harold Cohen create and ex...   \n",
       "\n",
       "                                             Choices Correct  \n",
       "0  a: To analyze existing data | b: To produce te...       b  \n",
       "1  a: Improvements in rule-based expert systems |...       c  \n",
       "2  a: Markov chain | b: Decision tree | c: Neural...       a  \n",
       "3  a: Job creation | b: Improved data analysis | ...       c  \n",
       "4          a: 1960s | b: 1970s | c: 1980s | d: 1990s       b  "
      ]
     },
     "execution_count": 86,
     "metadata": {},
     "output_type": "execute_result"
    }
   ],
   "source": [
    "df.head()"
   ]
  },
  {
   "cell_type": "code",
   "execution_count": null,
   "id": "70f7d7fd",
   "metadata": {},
   "outputs": [],
   "source": [
    "df.to_csv(\"generated_quiz.csv\", index=False)"
   ]
  },
  {
   "cell_type": "code",
   "execution_count": null,
   "id": "aed0b8ba",
   "metadata": {},
   "outputs": [],
   "source": []
  }
 ],
 "metadata": {
  "kernelspec": {
   "display_name": "genpro (Python 3.10.10)",
   "language": "python",
   "name": "genpro"
  },
  "language_info": {
   "codemirror_mode": {
    "name": "ipython",
    "version": 3
   },
   "file_extension": ".py",
   "mimetype": "text/x-python",
   "name": "python",
   "nbconvert_exporter": "python",
   "pygments_lexer": "ipython3",
   "version": "3.10.11"
  }
 },
 "nbformat": 4,
 "nbformat_minor": 5
}
