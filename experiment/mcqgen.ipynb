{
 "cells": [
  {
   "cell_type": "code",
   "execution_count": null,
   "id": "457a5b53",
   "metadata": {},
   "outputs": [],
   "source": [
    "from langchain_huggingface import HuggingFaceEndpoint\n",
    "from langchain.prompts import PromptTemplate\n",
    "from langchain.chains import LLMChain\n",
    "from langchain.chains import SequentialChain\n",
    "from langchain.callbacks import get_openai_callback\n",
    "import os\n",
    "import json\n",
    "import pandas as pd\n",
    "import traceback\n",
    "from dotenv import load_dotenv\n",
    "import PyPDF2"
   ]
  },
  {
   "cell_type": "code",
   "execution_count": 3,
   "id": "6fdac1c2",
   "metadata": {},
   "outputs": [
    {
     "data": {
      "text/plain": [
       "True"
      ]
     },
     "execution_count": 3,
     "metadata": {},
     "output_type": "execute_result"
    }
   ],
   "source": [
    "load_dotenv()"
   ]
  },
  {
   "cell_type": "code",
   "execution_count": 4,
   "id": "b8e7e6a6",
   "metadata": {},
   "outputs": [],
   "source": [
    "HUGGINGFACEHUB_API_TOKEN = os.getenv(\"HUGGINGFACEHUB_API_TOKEN\")"
   ]
  },
  {
   "cell_type": "code",
   "execution_count": 5,
   "id": "043606f9",
   "metadata": {},
   "outputs": [],
   "source": [
    "os.environ[\"HUGGINGFACEHUB_API_TOKEN\"] = HUGGINGFACEHUB_API_TOKEN"
   ]
  },
  {
   "cell_type": "code",
   "execution_count": 6,
   "id": "a84f093a",
   "metadata": {},
   "outputs": [],
   "source": [
    "with open(\"Response.json\", \"r\") as file:\n",
    "    RESPONSE_JSON = json.load(file)"
   ]
  },
  {
   "cell_type": "code",
   "execution_count": 7,
   "id": "b000539a",
   "metadata": {},
   "outputs": [
    {
     "name": "stdout",
     "output_type": "stream",
     "text": [
      "{'1': {'no': 1, 'question': 'multiple choice question', 'options': {'a': 'option a', 'b': 'option b', 'c': 'option c', 'd': 'option d'}, 'answer': 'a'}, '2': {'no': 2, 'question': 'multiple choice question', 'options': {'a': 'option a', 'b': 'option b', 'c': 'option c', 'd': 'option d'}, 'answer': 'a'}, '3': {'no': 3, 'question': 'multiple choice question', 'options': {'a': 'option a', 'b': 'option b', 'c': 'option c', 'd': 'option d'}, 'answer': 'a'}}\n"
     ]
    }
   ],
   "source": [
    "print(RESPONSE_JSON)"
   ]
  },
  {
   "cell_type": "code",
   "execution_count": 26,
   "id": "992920cb",
   "metadata": {},
   "outputs": [],
   "source": [
    "prompt = PromptTemplate(\n",
    "    input_variables=[\"text\", \"number\", \"subject\", \"tone\", \"response_json\"],\n",
    "    template=\"\"\"\n",
    "    Text: {text}\n",
    "    You are an expert MCQ maker. Given the above text, it is you job to \\\n",
    "    create a quiz of {number} multiple choice questions (MCQs) with answers for {subject} students in {tone} tone.\n",
    "    Make sure the questions are not repeated. check all the questions to be conforming text as well.\n",
    "    Make sure to format your response in JSON format with the following structure: ad use it as a guide:\n",
    "    Ensure to make {number} MCQs\n",
    "    {RESPONSE_JSON}\n",
    "    \"\"\"\n",
    ")"
   ]
  },
  {
   "cell_type": "code",
   "execution_count": 27,
   "id": "0ee744d2",
   "metadata": {},
   "outputs": [],
   "source": [
    "llm = HuggingFaceEndpoint(\n",
    "    repo_id=\"mistralai/Devstral-Small-2507\",\n",
    "    temperature=0.7,\n",
    ")"
   ]
  },
  {
   "cell_type": "code",
   "execution_count": 28,
   "id": "d7c5bdff",
   "metadata": {},
   "outputs": [],
   "source": [
    "chain = LLMChain(llm=llm, prompt=prompt, output_key='quiz', verbose=True)"
   ]
  },
  {
   "cell_type": "code",
   "execution_count": 29,
   "id": "021bd205",
   "metadata": {},
   "outputs": [],
   "source": [
    "template = \"\"\"\n",
    "    Yor are an expert english grammarian and writer. Given a multiple choice quiz for {subject} students, it is your job to \\\n",
    "    You need to evaluate the complexity of the questions and give a complete analysis of the quiz. Only use max 50 words.\n",
    "    if the quiz is not at per with the cognitive and analytical abilities of the students, \\\n",
    "    update the quiz questions which need to be changed and change the tone such that is perfectly fits the students abilities.\n",
    "    Quiz_MCQs: {quiz}\n",
    "    Check from an expert english Writer of the above quiz:\n",
    "    \"\"\""
   ]
  },
  {
   "cell_type": "code",
   "execution_count": 30,
   "id": "3bb64161",
   "metadata": {},
   "outputs": [],
   "source": [
    "prompt2 = PromptTemplate(\n",
    "    input_variables=[\"quiz\", \"subject\"],\n",
    "    template=template\n",
    ")"
   ]
  },
  {
   "cell_type": "code",
   "execution_count": 31,
   "id": "caccc373",
   "metadata": {},
   "outputs": [],
   "source": [
    "review_chain = LLMChain(llm=llm, prompt=prompt2, output_key='review', verbose=True)"
   ]
  },
  {
   "cell_type": "code",
   "execution_count": 32,
   "id": "92f3103e",
   "metadata": {},
   "outputs": [],
   "source": [
    "generate_evaluate_chain = SequentialChain(\n",
    "    chains=[chain, review_chain],\n",
    "    input_variables=['text', 'number', 'subject', 'tone', 'RESPONSE_JSON'],\n",
    "    output_variables=['quiz', 'review'],\n",
    "    verbose=True)"
   ]
  },
  {
   "cell_type": "code",
   "execution_count": 33,
   "id": "f70265be",
   "metadata": {},
   "outputs": [],
   "source": [
    "with open (\"text.txt\", \"r\") as file:\n",
    "    text = file.read()"
   ]
  },
  {
   "cell_type": "code",
   "execution_count": 34,
   "id": "274f5964",
   "metadata": {},
   "outputs": [
    {
     "name": "stdout",
     "output_type": "stream",
     "text": [
      "Generative artificial intelligence (Generative AI, GenAI, or GAI) is a subfield of artificial intelligence that uses generative models to produce text, images, videos, or other forms of data. These models learn the underlying patterns and structures of their training data and use them to produce new data based on the input, which often comes in the form of natural language prompts.\n",
      "\n",
      "Generative AI tools have become more common since the AI boom in the 2020s. This boom was made possible by improvements in transformer-based deep neural networks, particularly large language models (LLMs). Major tools include chatbots such as ChatGPT, Copilot, Gemini, Claude, Grok, and DeepSeek; text-to-image models such as Stable Diffusion, Midjourney, and DALL-E; and text-to-video models such as Veo and Sora. Technology companies developing generative AI include OpenAI, Anthropic, Meta AI, Microsoft, Google, DeepSeek, and Baidu.\n",
      "\n",
      "Generative AI has raised many ethical questions as it can be used for cybercrime, or to deceive or manipulate people through fake news or deepfakes. Even if used ethically, it may lead to mass replacement of human jobs. The tools themselves have been criticized as violating intellectual property laws, since they are trained on copyrighted works.\n",
      "\n",
      "Generative AI is used across many industries. Examples include software development, healthcare, finance, entertainment, customer service, sales and marketing, art, writing, fashion, and product design.\n",
      "\n",
      "History\n",
      "Main article: History of artificial intelligence\n",
      "Early history\n",
      "The first example of an algorithmically generated media is likely the Markov chain. Markov chains have long been used to model natural languages since their development by Russian mathematician Andrey Markov in the early 20th century. Markov published his first paper on the topic in 1906, and analyzed the pattern of vowels and consonants in the novel Eugeny Onegin using Markov chains. Once a Markov chain is trained on a text corpus, it can then be used as a probabilistic text generator.\n",
      "\n",
      "Computers were needed to go beyond Markov chains. By the early 1970s, Harold Cohen was creating and exhibiting generative AI works created by AARON, the computer program Cohen created to generate paintings.\n",
      "\n",
      "The terms generative AI planning or generative planning were used in the 1980s and 1990s to refer to AI planning systems, especially computer-aided process planning, used to generate sequences of actions to reach a specified goal. Generative AI planning systems used symbolic AI methods such as state space search and constraint satisfaction and were a \"relatively mature\" technology by the early 1990s. They were used to generate crisis action plans for military use, process plans for manufacturing and decision plans such as in prototype autonomous spacecraft.\n"
     ]
    }
   ],
   "source": [
    "print(text)"
   ]
  },
  {
   "cell_type": "code",
   "execution_count": 35,
   "id": "50159295",
   "metadata": {},
   "outputs": [],
   "source": [
    "text\n",
    "NUMBER = 5\n",
    "SUBJECT = \"AI\"\n",
    "TONE = \"Formal\"\n",
    "RESPONSE_JSON = RESPONSE_JSON"
   ]
  },
  {
   "cell_type": "code",
   "execution_count": 36,
   "id": "264f4d8c",
   "metadata": {},
   "outputs": [
    {
     "name": "stdout",
     "output_type": "stream",
     "text": [
      "\n",
      "\n",
      "\u001b[1m> Entering new SequentialChain chain...\u001b[0m\n",
      "\n",
      "\n",
      "\u001b[1m> Entering new LLMChain chain...\u001b[0m\n",
      "Prompt after formatting:\n",
      "\u001b[32;1m\u001b[1;3m\n",
      "    Text: Generative artificial intelligence (Generative AI, GenAI, or GAI) is a subfield of artificial intelligence that uses generative models to produce text, images, videos, or other forms of data. These models learn the underlying patterns and structures of their training data and use them to produce new data based on the input, which often comes in the form of natural language prompts.\n",
      "\n",
      "Generative AI tools have become more common since the AI boom in the 2020s. This boom was made possible by improvements in transformer-based deep neural networks, particularly large language models (LLMs). Major tools include chatbots such as ChatGPT, Copilot, Gemini, Claude, Grok, and DeepSeek; text-to-image models such as Stable Diffusion, Midjourney, and DALL-E; and text-to-video models such as Veo and Sora. Technology companies developing generative AI include OpenAI, Anthropic, Meta AI, Microsoft, Google, DeepSeek, and Baidu.\n",
      "\n",
      "Generative AI has raised many ethical questions as it can be used for cybercrime, or to deceive or manipulate people through fake news or deepfakes. Even if used ethically, it may lead to mass replacement of human jobs. The tools themselves have been criticized as violating intellectual property laws, since they are trained on copyrighted works.\n",
      "\n",
      "Generative AI is used across many industries. Examples include software development, healthcare, finance, entertainment, customer service, sales and marketing, art, writing, fashion, and product design.\n",
      "\n",
      "History\n",
      "Main article: History of artificial intelligence\n",
      "Early history\n",
      "The first example of an algorithmically generated media is likely the Markov chain. Markov chains have long been used to model natural languages since their development by Russian mathematician Andrey Markov in the early 20th century. Markov published his first paper on the topic in 1906, and analyzed the pattern of vowels and consonants in the novel Eugeny Onegin using Markov chains. Once a Markov chain is trained on a text corpus, it can then be used as a probabilistic text generator.\n",
      "\n",
      "Computers were needed to go beyond Markov chains. By the early 1970s, Harold Cohen was creating and exhibiting generative AI works created by AARON, the computer program Cohen created to generate paintings.\n",
      "\n",
      "The terms generative AI planning or generative planning were used in the 1980s and 1990s to refer to AI planning systems, especially computer-aided process planning, used to generate sequences of actions to reach a specified goal. Generative AI planning systems used symbolic AI methods such as state space search and constraint satisfaction and were a \"relatively mature\" technology by the early 1990s. They were used to generate crisis action plans for military use, process plans for manufacturing and decision plans such as in prototype autonomous spacecraft.\n",
      "    You are an expert MCQ maker. Given the above text, it is you job to     create a quiz of 5 multiple choice questions (MCQs) with answers for AI students in Formal tone.\n",
      "    Make sure the questions are not repeated. check all the questions to be conforming text as well.\n",
      "    Make sure to format your response in JSON format with the following structure: ad use it as a guide:\n",
      "    Ensure to make 5 MCQs\n",
      "    {\"1\": {\"no\": 1, \"question\": \"multiple choice question\", \"options\": {\"a\": \"option a\", \"b\": \"option b\", \"c\": \"option c\", \"d\": \"option d\"}, \"answer\": \"a\"}, \"2\": {\"no\": 2, \"question\": \"multiple choice question\", \"options\": {\"a\": \"option a\", \"b\": \"option b\", \"c\": \"option c\", \"d\": \"option d\"}, \"answer\": \"a\"}, \"3\": {\"no\": 3, \"question\": \"multiple choice question\", \"options\": {\"a\": \"option a\", \"b\": \"option b\", \"c\": \"option c\", \"d\": \"option d\"}, \"answer\": \"a\"}}\n",
      "    \u001b[0m\n",
      "\n",
      "\u001b[1m> Finished chain.\u001b[0m\n",
      "\n",
      "\n",
      "\u001b[1m> Entering new LLMChain chain...\u001b[0m\n",
      "Prompt after formatting:\n",
      "\u001b[32;1m\u001b[1;3m\n",
      "    Yor are an expert english grammarian and writer. Given a multiple choice quiz for AI students, it is your job to     You need to evaluate the complexity of the questions and give a complete analysis of the quiz. Only use max 50 words.\n",
      "    if the quiz is not at per with the cognitive and analytical abilities of the students,     update the quiz questions which need to be changed and change the tone such that is perfectly fits the students abilities.\n",
      "    Quiz_MCQs:  Based on the text, the following JSON structure is created:\n",
      "\n",
      "    {\n",
      "    \"1\": {\n",
      "        \"no\": 1,\n",
      "        \"question\": \"What is generative AI?\",\n",
      "        \"options\": {\n",
      "            \"a\": \"A subfield of AI that uses generative models to produce data.\",\n",
      "            \"b\": \"A type of AI that only focuses on image recognition.\",\n",
      "            \"c\": \"A form of AI that is used exclusively for gaming.\",\n",
      "            \"d\": \"A branch of AI that deals with the analysis of large datasets.\"\n",
      "        },\n",
      "        \"answer\": \"a\"\n",
      "    },\n",
      "    \"2\": {\n",
      "        \"no\": 2,\n",
      "        \"question\": \"Who is Harold Cohen and what did he create?\",\n",
      "        \"options\": {\n",
      "            \"a\": \"A mathematician who developed the first Markov chain.\",\n",
      "            \"b\": \"An artist who created the computer program AARON to generate paintings.\",\n",
      "            \"c\": \"A scientist who invented the first AI planning system.\",\n",
      "            \"d\": \"A researcher who developed the first text-to-image model.\"\n",
      "        },\n",
      "        \"answer\": \"b\"\n",
      "    },\n",
      "    \"3\": {\n",
      "        \"no\": 3,\n",
      "        \"question\": \"What is the primary use of generative AI in the 1980s and 1990s?\",\n",
      "        \"options\": {\n",
      "            \"a\": \"To generate sequences of actions to reach a specified goal.\",\n",
      "            \"b\": \"To create realistic human-like conversations.\",\n",
      "            \"c\": \"To generate high-quality images and videos.\",\n",
      "            \"d\": \"To analyze and interpret large datasets.\"\n",
      "        },\n",
      "        \"answer\": \"a\"\n",
      "    },\n",
      "    \"4\": {\n",
      "        \"no\": 4,\n",
      "        \"question\": \"Which of the following is a major tool in generative AI?\",\n",
      "        \"options\": {\n",
      "            \"a\": \"ChatGPT\",\n",
      "            \"b\": \"Excel\",\n",
      "            \"c\": \"Photoshop\",\n",
      "            \"d\": \"Python\"\n",
      "        },\n",
      "        \"answer\": \"a\"\n",
      "    },\n",
      "    \"5\": {\n",
      "        \"no\": 5,\n",
      "        \"question\": \"What are some ethical concerns related to generative AI?\",\n",
      "        \"options\": {\n",
      "            \"a\": \"Violation of intellectual property laws, cybercrime, and job displacement.\",\n",
      "            \"b\": \"Privacy invasion, data breaches, and hacking.\",\n",
      "            \"c\": \"Bias in AI algorithms, discrimination, and unfair treatment.\",\n",
      "            \"d\": \"Environmental\n",
      "    Check from an expert english Writer of the above quiz:\n",
      "    \u001b[0m\n",
      "\n",
      "\u001b[1m> Finished chain.\u001b[0m\n",
      "\n",
      "\u001b[1m> Finished chain.\u001b[0m\n"
     ]
    }
   ],
   "source": [
    "# with get_openai_callback() as cb:\n",
    "response=generate_evaluate_chain(\n",
    "    {\n",
    "        \"text\": text,\n",
    "        \"number\": NUMBER,\n",
    "        \"subject\": SUBJECT,\n",
    "        \"tone\": TONE,\n",
    "        \"RESPONSE_JSON\": json.dumps(RESPONSE_JSON)\n",
    "    }\n",
    ")"
   ]
  },
  {
   "cell_type": "code",
   "execution_count": null,
   "id": "3210253f",
   "metadata": {},
   "outputs": [
    {
     "name": "stdout",
     "output_type": "stream",
     "text": [
      "Total Tokens Used: 0\n",
      "Total Cost: $0.0000\n",
      "Prompt Tokens: 0\n",
      "Completion Tokens: 0\n"
     ]
    }
   ],
   "source": [
    "print(f\"Total Tokens Used: {cb.total_tokens}\")\n",
    "print(f\"Total Cost: ${cb.total_cost:.4f}\")\n",
    "print(f\"Prompt Tokens: {cb.prompt_tokens}\")\n",
    "print(f\"Completion Tokens: {cb.completion_tokens}\")"
   ]
  },
  {
   "cell_type": "code",
   "execution_count": null,
   "id": "c678f650",
   "metadata": {},
   "outputs": [
    {
     "name": "stdout",
     "output_type": "stream",
     "text": [
      " Based on the text, the following JSON structure is created:\n",
      "\n",
      "    {\n",
      "    \"1\": {\n",
      "        \"no\": 1,\n",
      "        \"question\": \"What is generative AI?\",\n",
      "        \"options\": {\n",
      "            \"a\": \"A subfield of AI that uses generative models to produce data.\",\n",
      "            \"b\": \"A type of AI that only focuses on image recognition.\",\n",
      "            \"c\": \"A form of AI that is used exclusively for gaming.\",\n",
      "            \"d\": \"A branch of AI that deals with the analysis of large datasets.\"\n",
      "        },\n",
      "        \"answer\": \"a\"\n",
      "    },\n",
      "    \"2\": {\n",
      "        \"no\": 2,\n",
      "        \"question\": \"Who is Harold Cohen and what did he create?\",\n",
      "        \"options\": {\n",
      "            \"a\": \"A mathematician who developed the first Markov chain.\",\n",
      "            \"b\": \"An artist who created the computer program AARON to generate paintings.\",\n",
      "            \"c\": \"A scientist who invented the first AI planning system.\",\n",
      "            \"d\": \"A researcher who developed the first text-to-image model.\"\n",
      "        },\n",
      "        \"answer\": \"b\"\n",
      "    },\n",
      "    \"3\": {\n",
      "        \"no\": 3,\n",
      "        \"question\": \"What is the primary use of generative AI in the 1980s and 1990s?\",\n",
      "        \"options\": {\n",
      "            \"a\": \"To generate sequences of actions to reach a specified goal.\",\n",
      "            \"b\": \"To create realistic human-like conversations.\",\n",
      "            \"c\": \"To generate high-quality images and videos.\",\n",
      "            \"d\": \"To analyze and interpret large datasets.\"\n",
      "        },\n",
      "        \"answer\": \"a\"\n",
      "    },\n",
      "    \"4\": {\n",
      "        \"no\": 4,\n",
      "        \"question\": \"Which of the following is a major tool in generative AI?\",\n",
      "        \"options\": {\n",
      "            \"a\": \"ChatGPT\",\n",
      "            \"b\": \"Excel\",\n",
      "            \"c\": \"Photoshop\",\n",
      "            \"d\": \"Python\"\n",
      "        },\n",
      "        \"answer\": \"a\"\n",
      "    },\n",
      "    \"5\": {\n",
      "        \"no\": 5,\n",
      "        \"question\": \"What are some ethical concerns related to generative AI?\",\n",
      "        \"options\": {\n",
      "            \"a\": \"Violation of intellectual property laws, cybercrime, and job displacement.\",\n",
      "            \"b\": \"Privacy invasion, data breaches, and hacking.\",\n",
      "            \"c\": \"Bias in AI algorithms, discrimination, and unfair treatment.\",\n",
      "            \"d\": \"Environmental\n"
     ]
    }
   ],
   "source": [
    "quiz=response.get('quiz')\n",
    "print(quiz)"
   ]
  },
  {
   "cell_type": "code",
   "execution_count": 61,
   "id": "47d30fc2",
   "metadata": {},
   "outputs": [
    {
     "name": "stdout",
     "output_type": "stream",
     "text": [
      "<class 'str'>\n"
     ]
    }
   ],
   "source": [
    "quiz_json = json.dumps(quiz)\n",
    "print(type(quiz_json))"
   ]
  },
  {
   "cell_type": "code",
   "execution_count": 65,
   "id": "b511b1cf",
   "metadata": {},
   "outputs": [
    {
     "name": "stdout",
     "output_type": "stream",
     "text": [
      "<class 'str'>\n"
     ]
    }
   ],
   "source": [
    "while isinstance(quiz, str):\n",
    "    try:\n",
    "        quiz = json.loads(quiz)\n",
    "    except json.JSONDecodeError:\n",
    "        break  # If it's no longer valid JSON, stop\n",
    "\n",
    "quiz_dict = quiz\n",
    "\n",
    "print(type(quiz_dict))"
   ]
  },
  {
   "cell_type": "code",
   "execution_count": 60,
   "id": "a3a463f5",
   "metadata": {},
   "outputs": [
    {
     "data": {
      "text/plain": [
       "str"
      ]
     },
     "execution_count": 60,
     "metadata": {},
     "output_type": "execute_result"
    }
   ],
   "source": [
    "type(quiz_dict)"
   ]
  },
  {
   "cell_type": "code",
   "execution_count": 56,
   "id": "8d665c67",
   "metadata": {},
   "outputs": [
    {
     "ename": "AttributeError",
     "evalue": "'str' object has no attribute 'items'",
     "output_type": "error",
     "traceback": [
      "\u001b[1;31m---------------------------------------------------------------------------\u001b[0m",
      "\u001b[1;31mAttributeError\u001b[0m                            Traceback (most recent call last)",
      "Cell \u001b[1;32mIn[56], line 2\u001b[0m\n\u001b[0;32m      1\u001b[0m quiz_table_data \u001b[38;5;241m=\u001b[39m []\n\u001b[1;32m----> 2\u001b[0m \u001b[38;5;28;01mfor\u001b[39;00m key, value \u001b[38;5;129;01min\u001b[39;00m \u001b[43mquiz_dict\u001b[49m\u001b[38;5;241;43m.\u001b[39;49m\u001b[43mitems\u001b[49m():\n\u001b[0;32m      3\u001b[0m     mcq \u001b[38;5;241m=\u001b[39m value[\u001b[38;5;124m'\u001b[39m\u001b[38;5;124mquestion\u001b[39m\u001b[38;5;124m'\u001b[39m]\n\u001b[0;32m      4\u001b[0m     options \u001b[38;5;241m=\u001b[39m \u001b[38;5;124m\"\u001b[39m\u001b[38;5;124m | \u001b[39m\u001b[38;5;124m\"\u001b[39m\u001b[38;5;241m.\u001b[39mjoin(\n\u001b[0;32m      5\u001b[0m         [\n\u001b[0;32m      6\u001b[0m             \u001b[38;5;124mf\u001b[39m\u001b[38;5;124m\"\u001b[39m\u001b[38;5;132;01m{\u001b[39;00moption\u001b[38;5;132;01m}\u001b[39;00m\u001b[38;5;124m: \u001b[39m\u001b[38;5;132;01m{\u001b[39;00moption_value\u001b[38;5;132;01m}\u001b[39;00m\u001b[38;5;124m\"\u001b[39m\n\u001b[0;32m      7\u001b[0m             \u001b[38;5;28;01mfor\u001b[39;00m option, option_value \u001b[38;5;129;01min\u001b[39;00m value[\u001b[38;5;124m'\u001b[39m\u001b[38;5;124moptions\u001b[39m\u001b[38;5;124m'\u001b[39m]\u001b[38;5;241m.\u001b[39mitems()\n\u001b[0;32m      8\u001b[0m         ]\n\u001b[0;32m      9\u001b[0m         )\n",
      "\u001b[1;31mAttributeError\u001b[0m: 'str' object has no attribute 'items'"
     ]
    }
   ],
   "source": [
    "quiz_table_data = []\n",
    "for key, value in quiz_dict.items():\n",
    "    mcq = value['question']\n",
    "    options = \" | \".join(\n",
    "        [\n",
    "            f\"{option}: {option_value}\"\n",
    "            for option, option_value in value['options'].items()\n",
    "        ]\n",
    "        )\n",
    "    correct = value['answer']\n",
    "    quiz_table_data.append({\"MCQ\": mcq, \"Choices\": options, \"Correct\": correct})"
   ]
  },
  {
   "cell_type": "code",
   "execution_count": null,
   "id": "43c82d8d",
   "metadata": {
    "vscode": {
     "languageId": "markdown"
    }
   },
   "outputs": [],
   "source": [
    "import json\n",
    "\n",
    "# The code in the previous cells is mostly correct and follows a logical workflow.\n",
    "# However, there are some issues with variable types and naming:\n",
    "# - quiz_dict should be a dictionary, but it is currently a string.\n",
    "# - The quiz variable is a string containing JSON, so it should be loaded with json.loads before use.\n",
    "# - The quiz_table_data population in cell 22 expects quiz_dict to be a dictionary.\n",
    "\n",
    "# Let's correct quiz_dict assignment to ensure it's a dictionary:\n",
    "\n",
    "quiz_dict = json.loads(quiz)"
   ]
  },
  {
   "cell_type": "code",
   "execution_count": null,
   "id": "1b9c2811",
   "metadata": {},
   "outputs": [
    {
     "data": {
      "text/plain": [
       "[{'MCQ': 'Which of the following is the first example of an algorithmically generated media?',\n",
       "  'Choices': 'a: Large language models | b: Markov chain | c: Transformers | d: AI planning systems',\n",
       "  'Correct': 'b'},\n",
       " {'MCQ': 'Who created the computer program AARON to generate paintings?',\n",
       "  'Choices': 'a: Andrey Markov | b: Harold Cohen | c: DeepMind | d: OpenAI',\n",
       "  'Correct': 'b'},\n",
       " {'MCQ': 'Which of the following was the first paper on Markov chains published by Andrey Markov?',\n",
       "  'Choices': 'a: The first paper on Markov chains was published in 1906 | b: The first paper on Markov chains was published in 1913 | c: The first paper on Markov chains was published in 1921 | d: The first paper on Markov chains was published in 1929',\n",
       "  'Correct': 'a'},\n",
       " {'MCQ': 'Which of the following is the first example of an algorithmically generated media?',\n",
       "  'Choices': 'a: Large language models | b: Markov chain | c: Transformers | d: AI planning systems',\n",
       "  'Correct': 'b'},\n",
       " {'MCQ': 'Which of the following is the first example of an algorithmically generated media?',\n",
       "  'Choices': 'a: Large language models | b: Markov chain | c: Transformers | d: AI planning systems',\n",
       "  'Correct': 'b'}]"
      ]
     },
     "execution_count": 99,
     "metadata": {},
     "output_type": "execute_result"
    }
   ],
   "source": [
    "quiz_table_data"
   ]
  },
  {
   "cell_type": "code",
   "execution_count": 54,
   "id": "6fe6dd2d",
   "metadata": {},
   "outputs": [
    {
     "ename": "NameError",
     "evalue": "name 'quiz_table_data' is not defined",
     "output_type": "error",
     "traceback": [
      "\u001b[1;31m---------------------------------------------------------------------------\u001b[0m",
      "\u001b[1;31mNameError\u001b[0m                                 Traceback (most recent call last)",
      "Cell \u001b[1;32mIn[54], line 1\u001b[0m\n\u001b[1;32m----> 1\u001b[0m df \u001b[38;5;241m=\u001b[39m pd\u001b[38;5;241m.\u001b[39mDataFrame(\u001b[43mquiz_table_data\u001b[49m)\n",
      "\u001b[1;31mNameError\u001b[0m: name 'quiz_table_data' is not defined"
     ]
    }
   ],
   "source": [
    "df = pd.DataFrame(quiz_table_data)"
   ]
  },
  {
   "cell_type": "code",
   "execution_count": null,
   "id": "9e9d508e",
   "metadata": {},
   "outputs": [
    {
     "data": {
      "text/html": [
       "<div>\n",
       "<style scoped>\n",
       "    .dataframe tbody tr th:only-of-type {\n",
       "        vertical-align: middle;\n",
       "    }\n",
       "\n",
       "    .dataframe tbody tr th {\n",
       "        vertical-align: top;\n",
       "    }\n",
       "\n",
       "    .dataframe thead th {\n",
       "        text-align: right;\n",
       "    }\n",
       "</style>\n",
       "<table border=\"1\" class=\"dataframe\">\n",
       "  <thead>\n",
       "    <tr style=\"text-align: right;\">\n",
       "      <th></th>\n",
       "      <th>MCQ</th>\n",
       "      <th>Choices</th>\n",
       "      <th>Correct</th>\n",
       "    </tr>\n",
       "  </thead>\n",
       "  <tbody>\n",
       "    <tr>\n",
       "      <th>0</th>\n",
       "      <td>Which of the following is the first example of...</td>\n",
       "      <td>a: Large language models | b: Markov chain | c...</td>\n",
       "      <td>b</td>\n",
       "    </tr>\n",
       "    <tr>\n",
       "      <th>1</th>\n",
       "      <td>Who created the computer program AARON to gene...</td>\n",
       "      <td>a: Andrey Markov | b: Harold Cohen | c: DeepMi...</td>\n",
       "      <td>b</td>\n",
       "    </tr>\n",
       "    <tr>\n",
       "      <th>2</th>\n",
       "      <td>Which of the following was the first paper on ...</td>\n",
       "      <td>a: The first paper on Markov chains was publis...</td>\n",
       "      <td>a</td>\n",
       "    </tr>\n",
       "    <tr>\n",
       "      <th>3</th>\n",
       "      <td>Which of the following is the first example of...</td>\n",
       "      <td>a: Large language models | b: Markov chain | c...</td>\n",
       "      <td>b</td>\n",
       "    </tr>\n",
       "    <tr>\n",
       "      <th>4</th>\n",
       "      <td>Which of the following is the first example of...</td>\n",
       "      <td>a: Large language models | b: Markov chain | c...</td>\n",
       "      <td>b</td>\n",
       "    </tr>\n",
       "  </tbody>\n",
       "</table>\n",
       "</div>"
      ],
      "text/plain": [
       "                                                 MCQ  \\\n",
       "0  Which of the following is the first example of...   \n",
       "1  Who created the computer program AARON to gene...   \n",
       "2  Which of the following was the first paper on ...   \n",
       "3  Which of the following is the first example of...   \n",
       "4  Which of the following is the first example of...   \n",
       "\n",
       "                                             Choices Correct  \n",
       "0  a: Large language models | b: Markov chain | c...       b  \n",
       "1  a: Andrey Markov | b: Harold Cohen | c: DeepMi...       b  \n",
       "2  a: The first paper on Markov chains was publis...       a  \n",
       "3  a: Large language models | b: Markov chain | c...       b  \n",
       "4  a: Large language models | b: Markov chain | c...       b  "
      ]
     },
     "execution_count": 105,
     "metadata": {},
     "output_type": "execute_result"
    }
   ],
   "source": [
    "df.head()"
   ]
  },
  {
   "cell_type": "code",
   "execution_count": null,
   "id": "70f7d7fd",
   "metadata": {},
   "outputs": [],
   "source": [
    "df.to_csv(\"generated_quiz.csv\", index=False)"
   ]
  },
  {
   "cell_type": "code",
   "execution_count": null,
   "id": "24c2330a",
   "metadata": {},
   "outputs": [],
   "source": []
  }
 ],
 "metadata": {
  "kernelspec": {
   "display_name": "Python 3",
   "language": "python",
   "name": "python3"
  },
  "language_info": {
   "codemirror_mode": {
    "name": "ipython",
    "version": 3
   },
   "file_extension": ".py",
   "mimetype": "text/x-python",
   "name": "python",
   "nbconvert_exporter": "python",
   "pygments_lexer": "ipython3",
   "version": "3.10.11"
  }
 },
 "nbformat": 4,
 "nbformat_minor": 5
}
