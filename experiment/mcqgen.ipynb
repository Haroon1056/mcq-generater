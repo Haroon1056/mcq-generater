{
 "cells": [
  {
   "cell_type": "code",
   "execution_count": null,
   "id": "457a5b53",
   "metadata": {},
   "outputs": [],
   "source": [
    "from langchain_huggingface import HuggingFaceEndpoint\n",
    "from langchain.prompts import PromptTemplate\n",
    "from langchain.chains import LLMChain\n",
    "from langchain.chains import SequentialChain\n",
    "from langchain.callbacks import get_openai_callback\n",
    "import os\n",
    "import json\n",
    "import pandas as pd\n",
    "import traceback\n",
    "from dotenv import load_dotenv\n",
    "import PyPDF2"
   ]
  },
  {
   "cell_type": "code",
   "execution_count": null,
   "id": "6fdac1c2",
   "metadata": {},
   "outputs": [
    {
     "data": {
      "text/plain": [
       "True"
      ]
     },
     "execution_count": 74,
     "metadata": {},
     "output_type": "execute_result"
    }
   ],
   "source": [
    "load_dotenv()"
   ]
  },
  {
   "cell_type": "code",
   "execution_count": null,
   "id": "b8e7e6a6",
   "metadata": {},
   "outputs": [],
   "source": [
    "HUGGINGFACEHUB_API_TOKEN = os.getenv(\"HUGGINGFACEHUB_API_TOKEN\")"
   ]
  },
  {
   "cell_type": "code",
   "execution_count": null,
   "id": "043606f9",
   "metadata": {},
   "outputs": [],
   "source": [
    "os.environ[\"HUGGINGFACEHUB_API_TOKEN\"] = HUGGINGFACEHUB_API_TOKEN"
   ]
  },
  {
   "cell_type": "code",
   "execution_count": null,
   "id": "a84f093a",
   "metadata": {},
   "outputs": [],
   "source": [
    "with open(\"Response.json\", \"r\") as file:\n",
    "    RESPONSE_JSON = json.load(file)"
   ]
  },
  {
   "cell_type": "code",
   "execution_count": null,
   "id": "b000539a",
   "metadata": {},
   "outputs": [
    {
     "name": "stdout",
     "output_type": "stream",
     "text": [
      "{'1': {'no': 1, 'question': 'multiple choice question', 'options': {'a': 'option a', 'b': 'option b', 'c': 'option c', 'd': 'option d'}, 'answer': 'a'}, '2': {'no': 1, 'question': 'multiple choice question', 'options': {'a': 'option a', 'b': 'option b', 'c': 'option c', 'd': 'option d'}, 'answer': 'a'}, '3': {'no': 1, 'question': 'multiple choice question', 'options': {'a': 'option a', 'b': 'option b', 'c': 'option c', 'd': 'option d'}, 'answer': 'a'}}\n"
     ]
    }
   ],
   "source": [
    "print(RESPONSE_JSON)"
   ]
  },
  {
   "cell_type": "code",
   "execution_count": null,
   "id": "992920cb",
   "metadata": {},
   "outputs": [],
   "source": [
    "prompt = PromptTemplate(\n",
    "    input_variables=[\"text\", \"number\", \"subject\", \"tone\", \"response_json\"],\n",
    "    template=\"\"\"\n",
    "    Text: {text}\n",
    "    You are an expert MCQ maker. Given the above text, it is you job to \\\n",
    "    create a quiz of {number} multiple choice questions (MCQs) with answers for {subject} students in {tone} tone.\n",
    "    Make sure the questions are not repeated. check all the questions to be conforming text as well.\n",
    "    Make sure to format your response in JSON format with the following structure: ad use it as a guide:\n",
    "    Ensure to make {number} MCQs\n",
    "    ### Response json:\n",
    "    {RESPONSE_JSON}\n",
    "    \"\"\"\n",
    ")"
   ]
  },
  {
   "cell_type": "code",
   "execution_count": null,
   "id": "0ee744d2",
   "metadata": {},
   "outputs": [],
   "source": [
    "llm = HuggingFaceEndpoint(\n",
    "    repo_id=\"mistralai/Devstral-Small-2507\",\n",
    "    temperature=0.7,\n",
    ")"
   ]
  },
  {
   "cell_type": "code",
   "execution_count": null,
   "id": "d7c5bdff",
   "metadata": {},
   "outputs": [],
   "source": [
    "chain = LLMChain(llm=llm, prompt=prompt, output_key='quiz', verbose=True)"
   ]
  },
  {
   "cell_type": "code",
   "execution_count": null,
   "id": "021bd205",
   "metadata": {},
   "outputs": [],
   "source": [
    "template = \"\"\"\n",
    "    Yor are an expert english grammarian and writer. Given a multiple choice quiz for {subject} students, it is your job to \\\n",
    "    You need to evaluate the complexity of the questions and give a complete analysis of the quiz. Only use max 50 words.\n",
    "    if the quiz is not at per with the cognitive and analytical abilities of the students, \\\n",
    "    update the quiz questions which need to be changed and change the tone such that is perfectly fits the students abilities.\n",
    "    Quiz_MCQs: {quiz}\n",
    "    Check from an expert english Writer of the above quiz:\n",
    "    \"\"\""
   ]
  },
  {
   "cell_type": "code",
   "execution_count": null,
   "id": "3bb64161",
   "metadata": {},
   "outputs": [],
   "source": [
    "prompt2 = PromptTemplate(\n",
    "    input_variables=[\"quiz\", \"subject\"],\n",
    "    template=template\n",
    ")"
   ]
  },
  {
   "cell_type": "code",
   "execution_count": null,
   "id": "caccc373",
   "metadata": {},
   "outputs": [],
   "source": [
    "review_chain = LLMChain(llm=llm, prompt=prompt2, output_key='review', verbose=True)"
   ]
  },
  {
   "cell_type": "code",
   "execution_count": null,
   "id": "92f3103e",
   "metadata": {},
   "outputs": [],
   "source": [
    "generate_evaluate_chain = SequentialChain(\n",
    "    chains=[chain, review_chain],\n",
    "    input_variables=['text', 'number', 'subject', 'tone', 'RESPONSE_JSON'],\n",
    "    output_variables=['quiz', 'review'],\n",
    "    verbose=True)"
   ]
  },
  {
   "cell_type": "code",
   "execution_count": null,
   "id": "f70265be",
   "metadata": {},
   "outputs": [],
   "source": [
    "with open (\"text.txt\", \"r\") as file:\n",
    "    text = file.read()"
   ]
  },
  {
   "cell_type": "code",
   "execution_count": null,
   "id": "274f5964",
   "metadata": {},
   "outputs": [
    {
     "name": "stdout",
     "output_type": "stream",
     "text": [
      "Generative artificial intelligence (Generative AI, GenAI, or GAI) is a subfield of artificial intelligence that uses generative models to produce text, images, videos, or other forms of data. These models learn the underlying patterns and structures of their training data and use them to produce new data based on the input, which often comes in the form of natural language prompts.\n",
      "\n",
      "Generative AI tools have become more common since the AI boom in the 2020s. This boom was made possible by improvements in transformer-based deep neural networks, particularly large language models (LLMs). Major tools include chatbots such as ChatGPT, Copilot, Gemini, Claude, Grok, and DeepSeek; text-to-image models such as Stable Diffusion, Midjourney, and DALL-E; and text-to-video models such as Veo and Sora. Technology companies developing generative AI include OpenAI, Anthropic, Meta AI, Microsoft, Google, DeepSeek, and Baidu.\n",
      "\n",
      "Generative AI has raised many ethical questions as it can be used for cybercrime, or to deceive or manipulate people through fake news or deepfakes. Even if used ethically, it may lead to mass replacement of human jobs. The tools themselves have been criticized as violating intellectual property laws, since they are trained on copyrighted works.\n",
      "\n",
      "Generative AI is used across many industries. Examples include software development, healthcare, finance, entertainment, customer service, sales and marketing, art, writing, fashion, and product design.\n",
      "\n",
      "History\n",
      "Main article: History of artificial intelligence\n",
      "Early history\n",
      "The first example of an algorithmically generated media is likely the Markov chain. Markov chains have long been used to model natural languages since their development by Russian mathematician Andrey Markov in the early 20th century. Markov published his first paper on the topic in 1906, and analyzed the pattern of vowels and consonants in the novel Eugeny Onegin using Markov chains. Once a Markov chain is trained on a text corpus, it can then be used as a probabilistic text generator.\n",
      "\n",
      "Computers were needed to go beyond Markov chains. By the early 1970s, Harold Cohen was creating and exhibiting generative AI works created by AARON, the computer program Cohen created to generate paintings.\n",
      "\n",
      "The terms generative AI planning or generative planning were used in the 1980s and 1990s to refer to AI planning systems, especially computer-aided process planning, used to generate sequences of actions to reach a specified goal. Generative AI planning systems used symbolic AI methods such as state space search and constraint satisfaction and were a \"relatively mature\" technology by the early 1990s. They were used to generate crisis action plans for military use, process plans for manufacturing and decision plans such as in prototype autonomous spacecraft.\n"
     ]
    }
   ],
   "source": [
    "print(text)"
   ]
  },
  {
   "cell_type": "code",
   "execution_count": null,
   "id": "50159295",
   "metadata": {},
   "outputs": [],
   "source": [
    "text\n",
    "NUMBER = 5\n",
    "SUBJECT = \"AI\"\n",
    "TONE = \"Formal\"\n",
    "RESPONSE_JSON = RESPONSE_JSON"
   ]
  },
  {
   "cell_type": "code",
   "execution_count": null,
   "id": "264f4d8c",
   "metadata": {},
   "outputs": [
    {
     "name": "stdout",
     "output_type": "stream",
     "text": [
      "\n",
      "\n",
      "\u001b[1m> Entering new SequentialChain chain...\u001b[0m\n",
      "\n",
      "\n",
      "\u001b[1m> Entering new LLMChain chain...\u001b[0m\n",
      "Prompt after formatting:\n",
      "\u001b[32;1m\u001b[1;3m\n",
      "    Text: Generative artificial intelligence (Generative AI, GenAI, or GAI) is a subfield of artificial intelligence that uses generative models to produce text, images, videos, or other forms of data. These models learn the underlying patterns and structures of their training data and use them to produce new data based on the input, which often comes in the form of natural language prompts.\n",
      "\n",
      "Generative AI tools have become more common since the AI boom in the 2020s. This boom was made possible by improvements in transformer-based deep neural networks, particularly large language models (LLMs). Major tools include chatbots such as ChatGPT, Copilot, Gemini, Claude, Grok, and DeepSeek; text-to-image models such as Stable Diffusion, Midjourney, and DALL-E; and text-to-video models such as Veo and Sora. Technology companies developing generative AI include OpenAI, Anthropic, Meta AI, Microsoft, Google, DeepSeek, and Baidu.\n",
      "\n",
      "Generative AI has raised many ethical questions as it can be used for cybercrime, or to deceive or manipulate people through fake news or deepfakes. Even if used ethically, it may lead to mass replacement of human jobs. The tools themselves have been criticized as violating intellectual property laws, since they are trained on copyrighted works.\n",
      "\n",
      "Generative AI is used across many industries. Examples include software development, healthcare, finance, entertainment, customer service, sales and marketing, art, writing, fashion, and product design.\n",
      "\n",
      "History\n",
      "Main article: History of artificial intelligence\n",
      "Early history\n",
      "The first example of an algorithmically generated media is likely the Markov chain. Markov chains have long been used to model natural languages since their development by Russian mathematician Andrey Markov in the early 20th century. Markov published his first paper on the topic in 1906, and analyzed the pattern of vowels and consonants in the novel Eugeny Onegin using Markov chains. Once a Markov chain is trained on a text corpus, it can then be used as a probabilistic text generator.\n",
      "\n",
      "Computers were needed to go beyond Markov chains. By the early 1970s, Harold Cohen was creating and exhibiting generative AI works created by AARON, the computer program Cohen created to generate paintings.\n",
      "\n",
      "The terms generative AI planning or generative planning were used in the 1980s and 1990s to refer to AI planning systems, especially computer-aided process planning, used to generate sequences of actions to reach a specified goal. Generative AI planning systems used symbolic AI methods such as state space search and constraint satisfaction and were a \"relatively mature\" technology by the early 1990s. They were used to generate crisis action plans for military use, process plans for manufacturing and decision plans such as in prototype autonomous spacecraft.\n",
      "    You are an expert MCQ maker. Given the above text, it is you job to     create a quiz of 5 multiple choice questions (MCQs) with answers for AI students in Formal tone.\n",
      "    Make sure the questions are not repeated. check all the questions to be conforming text as well.\n",
      "    Make sure to format your response in JSON format with the following structure: ad use it as a guide:\n",
      "    Ensure to make 5 MCQs\n",
      "    ### Response json:\n",
      "    {\"1\": {\"no\": 1, \"question\": \"multiple choice question\", \"options\": {\"a\": \"option a\", \"b\": \"option b\", \"c\": \"option c\", \"d\": \"option d\"}, \"answer\": \"a\"}, \"2\": {\"no\": 1, \"question\": \"multiple choice question\", \"options\": {\"a\": \"option a\", \"b\": \"option b\", \"c\": \"option c\", \"d\": \"option d\"}, \"answer\": \"a\"}, \"3\": {\"no\": 1, \"question\": \"multiple choice question\", \"options\": {\"a\": \"option a\", \"b\": \"option b\", \"c\": \"option c\", \"d\": \"option d\"}, \"answer\": \"a\"}}\n",
      "    \u001b[0m\n"
     ]
    },
    {
     "name": "stdout",
     "output_type": "stream",
     "text": [
      "\n",
      "\u001b[1m> Finished chain.\u001b[0m\n",
      "\n",
      "\n",
      "\u001b[1m> Entering new LLMChain chain...\u001b[0m\n",
      "Prompt after formatting:\n",
      "\u001b[32;1m\u001b[1;3m\n",
      "    Yor are an expert english grammarian and writer. Given a multiple choice quiz for AI students, it is your job to     You need to evaluate the complexity of the questions and give a complete analysis of the quiz. Only use max 50 words.\n",
      "    if the quiz is not at per with the cognitive and analytical abilities of the students,     update the quiz questions which need to be changed and change the tone such that is perfectly fits the students abilities.\n",
      "    Quiz_MCQs:  {\"4\": {\"no\": 1, \"question\": \"multiple choice question\", \"options\": {\"a\": \"option a\", \"b\": \"option b\", \"c\": \"option c\", \"d\": \"option d\"}, \"answer\": \"a\"}}\n",
      "    {\"5\": {\"no\": 1, \"question\": \"multiple choice question\", \"options\": {\"a\": \"option a\", \"b\": \"option b\", \"c\": \"option c\", \"d\": \"option d\"}, \"answer\": \"a\"}}\n",
      "\n",
      "### Response json:\n",
      "{\n",
      "    \"1\": {\n",
      "        \"no\": 1,\n",
      "        \"question\": \"What is generative AI primarily used for?\",\n",
      "        \"options\": {\n",
      "            \"a\": \"Generating new data based on input prompts\",\n",
      "            \"b\": \"Analyzing existing data sets\",\n",
      "            \"c\": \"Predicting future trends\",\n",
      "            \"d\": \"Classifying data into categories\"\n",
      "        },\n",
      "        \"answer\": \"a\"\n",
      "    },\n",
      "    \"2\": {\n",
      "        \"no\": 2,\n",
      "        \"question\": \"Which of the following is an example of a generative AI tool?\",\n",
      "        \"options\": {\n",
      "            \"a\": \"ChatGPT\",\n",
      "            \"b\": \"Excel\",\n",
      "            \"c\": \"Google Search\",\n",
      "            \"d\": \"Microsoft Word\"\n",
      "        },\n",
      "        \"answer\": \"a\"\n",
      "    },\n",
      "    \"3\": {\n",
      "        \"no\": 3,\n",
      "        \"question\": \"What is the primary technology behind generative AI models?\",\n",
      "        \"options\": {\n",
      "            \"a\": \"Transformer-based deep neural networks\",\n",
      "            \"b\": \"Rule-based systems\",\n",
      "            \"c\": \"Evolutionary algorithms\",\n",
      "            \"d\": \"Bayesian networks\"\n",
      "        },\n",
      "        \"answer\": \"a\"\n",
      "    },\n",
      "    \"4\": {\n",
      "        \"no\": 4,\n",
      "        \"question\": \"What is a potential ethical concern related to generative AI?\",\n",
      "        \"options\": {\n",
      "            \"a\": \"Mass replacement of human jobs\",\n",
      "            \"b\": \"Increased data privacy\",\n",
      "            \"c\": \"Enhanced cybersecurity\",\n",
      "            \"d\": \"Reduced environmental impact\"\n",
      "        },\n",
      "        \"answer\": \"a\"\n",
      "    },\n",
      "    \"5\": {\n",
      "        \"no\": 5,\n",
      "        \"question\": \"Which of the following is a generative AI model used for text generation?\",\n",
      "        \"options\": {\n",
      "            \"a\": \"Stable Diffusion\",\n",
      "            \"b\": \"DALL-E\",\n",
      "            \"c\": \"\n",
      "    Check from an expert english Writer of the above quiz:\n",
      "    \u001b[0m\n",
      "\n",
      "\u001b[1m> Finished chain.\u001b[0m\n",
      "\n",
      "\u001b[1m> Finished chain.\u001b[0m\n"
     ]
    }
   ],
   "source": [
    "with get_openai_callback() as cb:\n",
    "    response=generate_evaluate_chain(\n",
    "        {\n",
    "            \"text\": text,\n",
    "            \"number\": NUMBER,\n",
    "            \"subject\": SUBJECT,\n",
    "            \"tone\": TONE,\n",
    "            \"RESPONSE_JSON\": json.dumps(RESPONSE_JSON)\n",
    "        }\n",
    "    )"
   ]
  },
  {
   "cell_type": "code",
   "execution_count": null,
   "id": "3210253f",
   "metadata": {},
   "outputs": [
    {
     "name": "stdout",
     "output_type": "stream",
     "text": [
      "Total Tokens Used: 0\n",
      "Total Cost: $0.0000\n",
      "Prompt Tokens: 0\n",
      "Completion Tokens: 0\n"
     ]
    }
   ],
   "source": [
    "print(f\"Total Tokens Used: {cb.total_tokens}\")\n",
    "print(f\"Total Cost: ${cb.total_cost:.4f}\")\n",
    "print(f\"Prompt Tokens: {cb.prompt_tokens}\")\n",
    "print(f\"Completion Tokens: {cb.completion_tokens}\")"
   ]
  },
  {
   "cell_type": "code",
   "execution_count": null,
   "id": "c678f650",
   "metadata": {},
   "outputs": [],
   "source": [
    "quiz=response.get('quiz')"
   ]
  },
  {
   "cell_type": "code",
   "execution_count": null,
   "id": "43c354a6",
   "metadata": {},
   "outputs": [
    {
     "ename": "JSONDecodeError",
     "evalue": "Extra data: line 2 column 5 (char 157)",
     "output_type": "error",
     "traceback": [
      "\u001b[1;31m---------------------------------------------------------------------------\u001b[0m",
      "\u001b[1;31mJSONDecodeError\u001b[0m                           Traceback (most recent call last)",
      "Cell \u001b[1;32mIn[94], line 7\u001b[0m\n\u001b[0;32m      4\u001b[0m quiz_clean \u001b[38;5;241m=\u001b[39m re\u001b[38;5;241m.\u001b[39msub(\u001b[38;5;124mr\u001b[39m\u001b[38;5;124m'\u001b[39m\u001b[38;5;124m### Response json:|```\u001b[39m\u001b[38;5;124m'\u001b[39m, \u001b[38;5;124m'\u001b[39m\u001b[38;5;124m'\u001b[39m, quiz)\u001b[38;5;241m.\u001b[39mstrip()\n\u001b[0;32m      6\u001b[0m \u001b[38;5;66;03m# Parse JSON\u001b[39;00m\n\u001b[1;32m----> 7\u001b[0m quiz_dict \u001b[38;5;241m=\u001b[39m \u001b[43mjson\u001b[49m\u001b[38;5;241;43m.\u001b[39;49m\u001b[43mloads\u001b[49m\u001b[43m(\u001b[49m\u001b[43mquiz_clean\u001b[49m\u001b[43m)\u001b[49m\n",
      "File \u001b[1;32mc:\\Python310\\lib\\json\\__init__.py:346\u001b[0m, in \u001b[0;36mloads\u001b[1;34m(s, cls, object_hook, parse_float, parse_int, parse_constant, object_pairs_hook, **kw)\u001b[0m\n\u001b[0;32m    341\u001b[0m     s \u001b[38;5;241m=\u001b[39m s\u001b[38;5;241m.\u001b[39mdecode(detect_encoding(s), \u001b[38;5;124m'\u001b[39m\u001b[38;5;124msurrogatepass\u001b[39m\u001b[38;5;124m'\u001b[39m)\n\u001b[0;32m    343\u001b[0m \u001b[38;5;28;01mif\u001b[39;00m (\u001b[38;5;28mcls\u001b[39m \u001b[38;5;129;01mis\u001b[39;00m \u001b[38;5;28;01mNone\u001b[39;00m \u001b[38;5;129;01mand\u001b[39;00m object_hook \u001b[38;5;129;01mis\u001b[39;00m \u001b[38;5;28;01mNone\u001b[39;00m \u001b[38;5;129;01mand\u001b[39;00m\n\u001b[0;32m    344\u001b[0m         parse_int \u001b[38;5;129;01mis\u001b[39;00m \u001b[38;5;28;01mNone\u001b[39;00m \u001b[38;5;129;01mand\u001b[39;00m parse_float \u001b[38;5;129;01mis\u001b[39;00m \u001b[38;5;28;01mNone\u001b[39;00m \u001b[38;5;129;01mand\u001b[39;00m\n\u001b[0;32m    345\u001b[0m         parse_constant \u001b[38;5;129;01mis\u001b[39;00m \u001b[38;5;28;01mNone\u001b[39;00m \u001b[38;5;129;01mand\u001b[39;00m object_pairs_hook \u001b[38;5;129;01mis\u001b[39;00m \u001b[38;5;28;01mNone\u001b[39;00m \u001b[38;5;129;01mand\u001b[39;00m \u001b[38;5;129;01mnot\u001b[39;00m kw):\n\u001b[1;32m--> 346\u001b[0m     \u001b[38;5;28;01mreturn\u001b[39;00m \u001b[43m_default_decoder\u001b[49m\u001b[38;5;241;43m.\u001b[39;49m\u001b[43mdecode\u001b[49m\u001b[43m(\u001b[49m\u001b[43ms\u001b[49m\u001b[43m)\u001b[49m\n\u001b[0;32m    347\u001b[0m \u001b[38;5;28;01mif\u001b[39;00m \u001b[38;5;28mcls\u001b[39m \u001b[38;5;129;01mis\u001b[39;00m \u001b[38;5;28;01mNone\u001b[39;00m:\n\u001b[0;32m    348\u001b[0m     \u001b[38;5;28mcls\u001b[39m \u001b[38;5;241m=\u001b[39m JSONDecoder\n",
      "File \u001b[1;32mc:\\Python310\\lib\\json\\decoder.py:340\u001b[0m, in \u001b[0;36mJSONDecoder.decode\u001b[1;34m(self, s, _w)\u001b[0m\n\u001b[0;32m    338\u001b[0m end \u001b[38;5;241m=\u001b[39m _w(s, end)\u001b[38;5;241m.\u001b[39mend()\n\u001b[0;32m    339\u001b[0m \u001b[38;5;28;01mif\u001b[39;00m end \u001b[38;5;241m!=\u001b[39m \u001b[38;5;28mlen\u001b[39m(s):\n\u001b[1;32m--> 340\u001b[0m     \u001b[38;5;28;01mraise\u001b[39;00m JSONDecodeError(\u001b[38;5;124m\"\u001b[39m\u001b[38;5;124mExtra data\u001b[39m\u001b[38;5;124m\"\u001b[39m, s, end)\n\u001b[0;32m    341\u001b[0m \u001b[38;5;28;01mreturn\u001b[39;00m obj\n",
      "\u001b[1;31mJSONDecodeError\u001b[0m: Extra data: line 2 column 5 (char 157)"
     ]
    }
   ],
   "source": [
    "import re\n",
    "\n",
    "# Remove markdown and whitespace\n",
    "quiz_clean = re.sub(r'### Response json:|```', '', quiz).strip()\n",
    "\n",
    "# Parse JSON\n",
    "quiz_dict = json.loads(quiz_clean)"
   ]
  },
  {
   "cell_type": "code",
   "execution_count": null,
   "id": "a3a463f5",
   "metadata": {},
   "outputs": [
    {
     "data": {
      "text/plain": [
       "{'1': {'no': 1,\n",
       "  'question': 'Which of the following is the first example of an algorithmically generated media?',\n",
       "  'options': {'a': 'Large language models',\n",
       "   'b': 'Markov chain',\n",
       "   'c': 'Transformers',\n",
       "   'd': 'AI planning systems'},\n",
       "  'answer': 'b'},\n",
       " '2': {'no': 2,\n",
       "  'question': 'Who created the computer program AARON to generate paintings?',\n",
       "  'options': {'a': 'Andrey Markov',\n",
       "   'b': 'Harold Cohen',\n",
       "   'c': 'DeepMind',\n",
       "   'd': 'OpenAI'},\n",
       "  'answer': 'b'},\n",
       " '3': {'no': 3,\n",
       "  'question': 'Which of the following was the first paper on Markov chains published by Andrey Markov?',\n",
       "  'options': {'a': 'The first paper on Markov chains was published in 1906',\n",
       "   'b': 'The first paper on Markov chains was published in 1913',\n",
       "   'c': 'The first paper on Markov chains was published in 1921',\n",
       "   'd': 'The first paper on Markov chains was published in 1929'},\n",
       "  'answer': 'a'},\n",
       " '4': {'no': 4,\n",
       "  'question': 'Which of the following is the first example of an algorithmically generated media?',\n",
       "  'options': {'a': 'Large language models',\n",
       "   'b': 'Markov chain',\n",
       "   'c': 'Transformers',\n",
       "   'd': 'AI planning systems'},\n",
       "  'answer': 'b'},\n",
       " '5': {'no': 5,\n",
       "  'question': 'Which of the following is the first example of an algorithmically generated media?',\n",
       "  'options': {'a': 'Large language models',\n",
       "   'b': 'Markov chain',\n",
       "   'c': 'Transformers',\n",
       "   'd': 'AI planning systems'},\n",
       "  'answer': 'b'}}"
      ]
     },
     "execution_count": 95,
     "metadata": {},
     "output_type": "execute_result"
    }
   ],
   "source": [
    "quiz_dict"
   ]
  },
  {
   "cell_type": "code",
   "execution_count": null,
   "id": "8d665c67",
   "metadata": {},
   "outputs": [],
   "source": [
    "quiz_table_data = []\n",
    "for key, value in quiz_dict.items():\n",
    "    mcq = value['question']\n",
    "    options = \" | \".join(\n",
    "        [\n",
    "            f\"{option}: {option_value}\"\n",
    "            for option, option_value in value['options'].items()\n",
    "        ]\n",
    "        )\n",
    "    correct = value['answer']\n",
    "    quiz_table_data.append({\"MCQ\": mcq, \"Choices\": options, \"Correct\": correct})"
   ]
  },
  {
   "cell_type": "code",
   "execution_count": null,
   "id": "1b9c2811",
   "metadata": {},
   "outputs": [
    {
     "data": {
      "text/plain": [
       "[{'MCQ': 'Which of the following is the first example of an algorithmically generated media?',\n",
       "  'Choices': 'a: Large language models | b: Markov chain | c: Transformers | d: AI planning systems',\n",
       "  'Correct': 'b'},\n",
       " {'MCQ': 'Who created the computer program AARON to generate paintings?',\n",
       "  'Choices': 'a: Andrey Markov | b: Harold Cohen | c: DeepMind | d: OpenAI',\n",
       "  'Correct': 'b'},\n",
       " {'MCQ': 'Which of the following was the first paper on Markov chains published by Andrey Markov?',\n",
       "  'Choices': 'a: The first paper on Markov chains was published in 1906 | b: The first paper on Markov chains was published in 1913 | c: The first paper on Markov chains was published in 1921 | d: The first paper on Markov chains was published in 1929',\n",
       "  'Correct': 'a'},\n",
       " {'MCQ': 'Which of the following is the first example of an algorithmically generated media?',\n",
       "  'Choices': 'a: Large language models | b: Markov chain | c: Transformers | d: AI planning systems',\n",
       "  'Correct': 'b'},\n",
       " {'MCQ': 'Which of the following is the first example of an algorithmically generated media?',\n",
       "  'Choices': 'a: Large language models | b: Markov chain | c: Transformers | d: AI planning systems',\n",
       "  'Correct': 'b'}]"
      ]
     },
     "execution_count": 99,
     "metadata": {},
     "output_type": "execute_result"
    }
   ],
   "source": [
    "quiz_table_data"
   ]
  },
  {
   "cell_type": "code",
   "execution_count": null,
   "id": "6fe6dd2d",
   "metadata": {},
   "outputs": [],
   "source": [
    "df = pd.DataFrame(quiz_table_data)"
   ]
  },
  {
   "cell_type": "code",
   "execution_count": null,
   "id": "9e9d508e",
   "metadata": {},
   "outputs": [
    {
     "data": {
      "text/html": [
       "<div>\n",
       "<style scoped>\n",
       "    .dataframe tbody tr th:only-of-type {\n",
       "        vertical-align: middle;\n",
       "    }\n",
       "\n",
       "    .dataframe tbody tr th {\n",
       "        vertical-align: top;\n",
       "    }\n",
       "\n",
       "    .dataframe thead th {\n",
       "        text-align: right;\n",
       "    }\n",
       "</style>\n",
       "<table border=\"1\" class=\"dataframe\">\n",
       "  <thead>\n",
       "    <tr style=\"text-align: right;\">\n",
       "      <th></th>\n",
       "      <th>MCQ</th>\n",
       "      <th>Choices</th>\n",
       "      <th>Correct</th>\n",
       "    </tr>\n",
       "  </thead>\n",
       "  <tbody>\n",
       "    <tr>\n",
       "      <th>0</th>\n",
       "      <td>Which of the following is the first example of...</td>\n",
       "      <td>a: Large language models | b: Markov chain | c...</td>\n",
       "      <td>b</td>\n",
       "    </tr>\n",
       "    <tr>\n",
       "      <th>1</th>\n",
       "      <td>Who created the computer program AARON to gene...</td>\n",
       "      <td>a: Andrey Markov | b: Harold Cohen | c: DeepMi...</td>\n",
       "      <td>b</td>\n",
       "    </tr>\n",
       "    <tr>\n",
       "      <th>2</th>\n",
       "      <td>Which of the following was the first paper on ...</td>\n",
       "      <td>a: The first paper on Markov chains was publis...</td>\n",
       "      <td>a</td>\n",
       "    </tr>\n",
       "    <tr>\n",
       "      <th>3</th>\n",
       "      <td>Which of the following is the first example of...</td>\n",
       "      <td>a: Large language models | b: Markov chain | c...</td>\n",
       "      <td>b</td>\n",
       "    </tr>\n",
       "    <tr>\n",
       "      <th>4</th>\n",
       "      <td>Which of the following is the first example of...</td>\n",
       "      <td>a: Large language models | b: Markov chain | c...</td>\n",
       "      <td>b</td>\n",
       "    </tr>\n",
       "  </tbody>\n",
       "</table>\n",
       "</div>"
      ],
      "text/plain": [
       "                                                 MCQ  \\\n",
       "0  Which of the following is the first example of...   \n",
       "1  Who created the computer program AARON to gene...   \n",
       "2  Which of the following was the first paper on ...   \n",
       "3  Which of the following is the first example of...   \n",
       "4  Which of the following is the first example of...   \n",
       "\n",
       "                                             Choices Correct  \n",
       "0  a: Large language models | b: Markov chain | c...       b  \n",
       "1  a: Andrey Markov | b: Harold Cohen | c: DeepMi...       b  \n",
       "2  a: The first paper on Markov chains was publis...       a  \n",
       "3  a: Large language models | b: Markov chain | c...       b  \n",
       "4  a: Large language models | b: Markov chain | c...       b  "
      ]
     },
     "execution_count": 105,
     "metadata": {},
     "output_type": "execute_result"
    }
   ],
   "source": [
    "df.head()"
   ]
  },
  {
   "cell_type": "code",
   "execution_count": null,
   "id": "70f7d7fd",
   "metadata": {},
   "outputs": [],
   "source": [
    "# df.to_csv(\"generated_quiz.csv\", index=False)"
   ]
  },
  {
   "cell_type": "code",
   "execution_count": null,
   "id": "24c2330a",
   "metadata": {},
   "outputs": [],
   "source": []
  }
 ],
 "metadata": {
  "kernelspec": {
   "display_name": "genpro (Python 3.10.10)",
   "language": "python",
   "name": "genpro"
  },
  "language_info": {
   "codemirror_mode": {
    "name": "ipython",
    "version": 3
   },
   "file_extension": ".py",
   "mimetype": "text/x-python",
   "name": "python",
   "nbconvert_exporter": "python",
   "pygments_lexer": "ipython3",
   "version": "3.10.11"
  }
 },
 "nbformat": 4,
 "nbformat_minor": 5
}
